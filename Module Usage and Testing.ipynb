{
 "cells": [
  {
   "cell_type": "markdown",
   "metadata": {},
   "source": [
    "# wiktiwordnetapi.py\n",
    "\n",
    "This module loads the generated WiktiWordNet data and has two interaction functions:\n",
    " - check_domain(term) - checks if the selected term refers to a domain\n",
    " - get_category(term) - returns a dictionary of {category:definition} pairs for the selected term"
   ]
  },
  {
   "cell_type": "markdown",
   "metadata": {},
   "source": [
    "The wiktiwornetapi can be imported with the following command:"
   ]
  },
  {
   "cell_type": "code",
   "execution_count": 1,
   "metadata": {},
   "outputs": [],
   "source": [
    "import wiktiwordnetapi as wwnapi"
   ]
  },
  {
   "cell_type": "markdown",
   "metadata": {},
   "source": [
    "Next, instantiate a WiktiWordNet object with the following command:"
   ]
  },
  {
   "cell_type": "code",
   "execution_count": 2,
   "metadata": {},
   "outputs": [],
   "source": [
    "wwn = wwnapi.wiktiwordnet()"
   ]
  },
  {
   "cell_type": "markdown",
   "metadata": {},
   "source": [
    "Test the functionality of the two methods available:"
   ]
  },
  {
   "cell_type": "code",
   "execution_count": 3,
   "metadata": {},
   "outputs": [
    {
     "name": "stdout",
     "output_type": "stream",
     "text": [
      "According to WiktiWordNet, dogs is NOT a domain.\n",
      "According to WiktiWordNet, astronomy is a domain.\n",
      "According to WiktiWordNet, geology is a domain.\n",
      "According to WiktiWordNet, astrology is NOT a domain.\n"
     ]
    }
   ],
   "source": [
    "def print_domain_status(term):\n",
    "    [is_domain, definition] = wwn.check_domain(term)\n",
    "    \n",
    "    print('According to WiktiWordNet, {} is {}a domain.'\\\n",
    "          .format(term, '' if is_domain else 'NOT '))\n",
    "    \n",
    "for term in ['dogs', 'astronomy', 'geology', 'astrology']:\n",
    "    print_domain_status(term)\n"
   ]
  },
  {
   "cell_type": "code",
   "execution_count": 4,
   "metadata": {},
   "outputs": [
    {
     "name": "stdout",
     "output_type": "stream",
     "text": [
      "Found the following categories for dog:\n",
      "Body, Role\n",
      "Found the following category for astronomy:\n",
      "Domain\n",
      "WiktiWordnet does not have any categories for the term butter.\n"
     ]
    }
   ],
   "source": [
    "def print_term_categories(term):\n",
    "    categories = wwn.get_category(term)\n",
    "    \n",
    "    num_categories = len(list(categories.keys()))\n",
    "    if num_categories == 0:\n",
    "        print('WiktiWordnet does not have any categories for the term {}.'\\\n",
    "              .format(term))\n",
    "    else:\n",
    "        print('Found the following {} for {}:'\\\n",
    "              .format('categories' if num_categories > 1 else 'category', term))\n",
    "        print(', '.join(list(categories.keys())))\n",
    "    \n",
    "for term in ['dog', 'astronomy', 'butter']:\n",
    "    print_term_categories(term)"
   ]
  },
  {
   "cell_type": "code",
   "execution_count": null,
   "metadata": {},
   "outputs": [],
   "source": []
  }
 ],
 "metadata": {
  "kernelspec": {
   "display_name": "Python 3",
   "language": "python",
   "name": "python3"
  },
  "language_info": {
   "codemirror_mode": {
    "name": "ipython",
    "version": 3
   },
   "file_extension": ".py",
   "mimetype": "text/x-python",
   "name": "python",
   "nbconvert_exporter": "python",
   "pygments_lexer": "ipython3",
   "version": "3.6.9"
  }
 },
 "nbformat": 4,
 "nbformat_minor": 4
}
