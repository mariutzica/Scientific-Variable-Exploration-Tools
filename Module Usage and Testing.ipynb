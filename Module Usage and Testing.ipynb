{
 "cells": [
  {
   "cell_type": "markdown",
   "metadata": {},
   "source": [
    "This notebook reviews all of the variable search & exploration components modules."
   ]
  },
  {
   "cell_type": "markdown",
   "metadata": {},
   "source": [
    "## Table of contents:\n",
    "1. [wiktiwordnetapi.py](#sec-wwn)\n",
    "2. [wikipediaapi.py](#sec-wapi)\n",
    "3. [svoapi.py](#sec-svoapi)\n",
    "4. [parse_tools.py](#sec-parsetools)"
   ]
  },
  {
   "cell_type": "markdown",
   "metadata": {},
   "source": [
    "## 1. wiktiwordnetapi.py <a class=\"anchor\" id=\"sec-wwn\"></a>\n",
    "\n",
    "This module loads the generated WiktiWordNet data and has two interaction functions:\n",
    " - check_domain(term) - checks if the selected term refers to a domain\n",
    " - get_category(term) - returns a dictionary of {category:definition} pairs for the selected term"
   ]
  },
  {
   "cell_type": "markdown",
   "metadata": {},
   "source": [
    "The wiktiwornetapi can be imported with the following command:"
   ]
  },
  {
   "cell_type": "code",
   "execution_count": 1,
   "metadata": {},
   "outputs": [],
   "source": [
    "import wiktiwordnetapi as wwnapi"
   ]
  },
  {
   "cell_type": "markdown",
   "metadata": {},
   "source": [
    "Next, instantiate a WiktiWordNet object with the following command:"
   ]
  },
  {
   "cell_type": "code",
   "execution_count": 2,
   "metadata": {},
   "outputs": [],
   "source": [
    "wwn = wwnapi.wiktiwordnet()"
   ]
  },
  {
   "cell_type": "markdown",
   "metadata": {},
   "source": [
    "Test the functionality of the two methods available:"
   ]
  },
  {
   "cell_type": "code",
   "execution_count": 3,
   "metadata": {},
   "outputs": [
    {
     "name": "stdout",
     "output_type": "stream",
     "text": [
      "According to WiktiWordNet, dogs is NOT a domain.\n",
      "According to WiktiWordNet, astronomy is a domain.\n",
      "According to WiktiWordNet, geology is a domain.\n",
      "According to WiktiWordNet, astrology is NOT a domain.\n"
     ]
    }
   ],
   "source": [
    "def print_domain_status(term):\n",
    "    [is_domain, definition] = wwn.check_domain(term)\n",
    "    \n",
    "    print('According to WiktiWordNet, {} is {}a domain.'\\\n",
    "          .format(term, '' if is_domain else 'NOT '))\n",
    "    \n",
    "for term in ['dogs', 'astronomy', 'geology', 'astrology']:\n",
    "    print_domain_status(term)\n"
   ]
  },
  {
   "cell_type": "code",
   "execution_count": 4,
   "metadata": {},
   "outputs": [
    {
     "name": "stdout",
     "output_type": "stream",
     "text": [
      "Found the following categories for dog:\n",
      "Body, Role\n",
      "Found the following category for astronomy:\n",
      "Domain\n",
      "WiktiWordnet does not have any categories for the term butter.\n"
     ]
    }
   ],
   "source": [
    "def print_term_categories(term):\n",
    "    categories = wwn.get_category(term)\n",
    "    \n",
    "    num_categories = len(list(categories.keys()))\n",
    "    if num_categories == 0:\n",
    "        print('WiktiWordnet does not have any categories for the term {}.'\\\n",
    "              .format(term))\n",
    "    else:\n",
    "        print('Found the following {} for {}:'\\\n",
    "              .format('categories' if num_categories > 1 else 'category', term))\n",
    "        print(', '.join(list(categories.keys())))\n",
    "    \n",
    "for term in ['dog', 'astronomy', 'butter']:\n",
    "    print_term_categories(term)"
   ]
  },
  {
   "cell_type": "markdown",
   "metadata": {},
   "source": [
    "## 2. wikipediaapi.py <a class=\"anchor\" id=\"sec-wapi\"></a>"
   ]
  },
  {
   "cell_type": "markdown",
   "metadata": {},
   "source": [
    "The functions contained in this module can be used to interact with Wikipedia. They can\n",
    "- perform a search and return the top/most relevant result according to the Wikipedia algorithm\n",
    "- get the \"bulk\" text from a Wikipedia page (discarding panel information)\n",
    "\n",
    "The main function to be used from this module is:\n",
    "- get_wikipedia_text(term) : returns the text and metadata information from most closely related Wikipedia page\n",
    "\n",
    "And there are two helper functions present:\n",
    "- get_top_wikipedia_entry(term) : returns metadata information about most closely related Wikipedia page\n",
    "- parse_wikipedia_page(pageid) : returns the text and disambugation information about the Wikipedia page"
   ]
  },
  {
   "cell_type": "markdown",
   "metadata": {},
   "source": [
    "Load the module as follows:"
   ]
  },
  {
   "cell_type": "code",
   "execution_count": 1,
   "metadata": {},
   "outputs": [],
   "source": [
    "import wikipediaapi as wapi"
   ]
  },
  {
   "cell_type": "markdown",
   "metadata": {},
   "source": [
    "First, test the helper functions."
   ]
  },
  {
   "cell_type": "code",
   "execution_count": 2,
   "metadata": {},
   "outputs": [
    {
     "name": "stdout",
     "output_type": "stream",
     "text": [
      "Found the following Wikipedia page for dog:\n",
      "Title: Dog\n",
      "Page ID: 4269567\n",
      "Found the following Wikipedia page for crop production:\n",
      "Title: Agriculture\n",
      "Page ID: 627\n",
      "Redirect Title: Crop production\n",
      "Found the following Wikipedia page for conductivity:\n",
      "Title: Conductivity\n",
      "Page ID: 403990\n",
      "Did not find a relevant Wikipedia page for hafdkj.\n"
     ]
    }
   ],
   "source": [
    "def get_wikipedia_page_info(term):\n",
    "    results = wapi.get_top_wikipedia_entry(term)\n",
    "    \n",
    "    if results == {}:\n",
    "        print('Did not find a relevant Wikipedia page for {}.'.format(term))\n",
    "    else:\n",
    "        print('Found the following Wikipedia page for {}:'.format(term))\n",
    "        if 'title' in results.keys():\n",
    "            print('Title: {}'.format(results['title']))\n",
    "        if 'pageid' in results.keys():\n",
    "            print('Page ID: {}'.format(results['pageid']))\n",
    "        if 'redirecttitle' in results.keys():\n",
    "            print('Redirect Title: {}'.format(results['redirecttitle']))\n",
    "        if 'sectiontitle' in results.keys():\n",
    "            print('Section Title: {}'.format(results['sectiontitle']))\n",
    "\n",
    "for term in ['dog', 'crop production', 'conductivity', 'hafdkj']:\n",
    "    get_wikipedia_page_info(term)"
   ]
  },
  {
   "cell_type": "code",
   "execution_count": 3,
   "metadata": {},
   "outputs": [
    {
     "name": "stdout",
     "output_type": "stream",
     "text": [
      "Here are the first few lines of page id 4269567:\n",
      "\n",
      "Page with id 403990 is a disambiguation page.\n",
      "Here are the first few lines of page id 403990:\n",
      "Electrical conductivity\n",
      "Here are the first few lines of page id 0:\n",
      "\n"
     ]
    }
   ],
   "source": [
    "def get_wikipedia_text_info(pageid):\n",
    "    [text, disambig] = wapi.parse_wikipedia_page(pageid)\n",
    "    \n",
    "    if disambig:\n",
    "        print('Page with id {} is a disambiguation page.'.format(pageid))\n",
    "    if text != []:\n",
    "        print('Here are the first few lines of page id {}:'.format(pageid) )\n",
    "        print(text[0])\n",
    "        \n",
    "for term in [4269567, 403990, 0]:\n",
    "    get_wikipedia_text_info(term)"
   ]
  },
  {
   "cell_type": "markdown",
   "metadata": {},
   "source": [
    "Now, test the main function:"
   ]
  },
  {
   "cell_type": "code",
   "execution_count": 4,
   "metadata": {},
   "outputs": [
    {
     "name": "stdout",
     "output_type": "stream",
     "text": [
      "Page Title for term dog: dog\n",
      "Here is the first paragraph of the page for term dog:\n",
      "Canis familiaris Linnaeus, 1758[2][3]\n",
      "==================================\n",
      "Page Title for term crop production: agriculture\n",
      "Redirect title for term crop production page is: crop production.\n",
      "Here is the first paragraph of the page for term crop production:\n",
      "Agriculture is the science and art of cultivating plants and livestock.[1] Agriculture was the key development in the rise of sedentary human civilization, whereby farming of domesticated species created food surpluses that enabled people to live in cities. The history of agriculture began thousands of years ago. After gathering wild grains beginning at least 105,000 years ago, nascent farmers began to plant them around 11,500 years ago. Pigs, sheep and cattle were domesticated over 10,000 years ago. Plants were independently cultivated in at least 11 regions of the world. Industrial agriculture based on large-scale monoculture in the twentieth century came to dominate agricultural output, though about 2 billion people still depended on subsistence agriculture into the twenty-first.\n",
      "==================================\n",
      "Page Title for term conductivity: conductivity\n",
      "Page for term conductivity is a disambiguation page.\n",
      "Here is the first paragraph of the page for term conductivity:\n",
      "Electrical conductivity\n",
      "==================================\n",
      "No page found for term hafdkj.\n",
      "==================================\n"
     ]
    }
   ],
   "source": [
    "def get_wikipedia_text(term):\n",
    "    [text, disambig, title, redirecttitle] = wapi.get_wikipedia_text(term)\n",
    "    \n",
    "    if title == '':\n",
    "        print('No page found for term {}.'.format(term))\n",
    "    else:\n",
    "        print('Page Title for term {}: {}'.format(term, title))\n",
    "    if redirecttitle != '':\n",
    "        print('Redirect title for term {} page is: {}.'.format(term, redirecttitle))\n",
    "    if disambig:\n",
    "        print('Page for term {} is a disambiguation page.'.format(term))\n",
    "    if text != []:\n",
    "        print('Here is the first paragraph of the page for term {}:'.format(term) )\n",
    "        print(text[0])\n",
    "\n",
    "for term in ['dog', 'crop production', 'conductivity', 'hafdkj']:\n",
    "    get_wikipedia_text(term)\n",
    "    print('==================================')\n",
    "    "
   ]
  },
  {
   "cell_type": "markdown",
   "metadata": {},
   "source": [
    "## 3. svoapi.py <a class=\"anchor\" id=\"sec-svoapi\"></a>"
   ]
  },
  {
   "cell_type": "markdown",
   "metadata": {},
   "source": [
    "This module interacts with the SVO SPARQL endpoint to do term search\n",
    " \n",
    "The main function to be used from this module is:\n",
    "- search_rank(term) : returns a pandas dataframe of directly labeled entities and linked entities related to the search term(s) as well as a rank (from 0 to 1) of the match\n",
    "\n",
    "There are three helper functions present in the module:\n",
    "- search(term) : returns a pandas dataframe of directly labeled entities and linked entities related to the search term(s)\n",
    "- search_entity_links(entities) : return a Pandas dataframe containing the columns: term, entity, entitylabel, entityclass, linkedentity, linkedentitylabel, linkedentityclass\n",
    "    - linkedentity (and label, class) will be one of the entities passed in\n",
    "    - entity (and label, class) will be the entities linked to that entity\n",
    "- search_label(term) : return a Pandas dataframe containing the columns: term, entity, entitylabel, entityclass"
   ]
  },
  {
   "cell_type": "markdown",
   "metadata": {},
   "source": [
    "Load the module as follows:"
   ]
  },
  {
   "cell_type": "code",
   "execution_count": 1,
   "metadata": {},
   "outputs": [],
   "source": [
    "import svoapi"
   ]
  },
  {
   "cell_type": "markdown",
   "metadata": {},
   "source": [
    "Test the rank search functionality:"
   ]
  },
  {
   "cell_type": "code",
   "execution_count": 2,
   "metadata": {},
   "outputs": [
    {
     "name": "stdout",
     "output_type": "stream",
     "text": [
      "Performing search for viscosity\n",
      "Here are the top ten search results overall:\n",
      "\tproperty#viscosity\t1.0\n",
      "\tproperty#viscosity_term\t0.475\n",
      "\tproperty#dynamic_viscosity\t0.46\n",
      "\tproperty#apparent_viscosity\t0.455\n",
      "\tproperty#kinematic_viscosity\t0.45\n",
      "\tproperty#power-law-fluid_viscosity\t0.42\n",
      "\tproperty#log10_of_dynamic_viscosity\t0.2633333333333333\n",
      "\tproperty#shear_dynamic_viscosity\t0.2633333333333333\n",
      "\tproperty#volume_dynamic_viscosity\t0.2583333333333333\n",
      "\tproperty#shear_kinematic_viscosity\t0.2533333333333333\n",
      "\n",
      "Here are the top ten search results for variables:\n",
      "\tvariable#sea%40context%7Ein_%28water_eddy%29__viscosity\t0.14500000000000002\n",
      "\tvariable#air__shear_dynamic_viscosity\t0.10500000000000001\n",
      "\tvariable#air__volume_dynamic_viscosity\t0.1\n",
      "\tvariable#air__shear_kinematic_viscosity\t0.09500000000000001\n",
      "\tvariable#polymer__extensional_kinematic_viscosity\t0.09500000000000001\n",
      "\tvariable#water__shear_dynamic_viscosity\t0.09500000000000001\n",
      "\tvariable#air__volume_kinematic_viscosity\t0.09000000000000001\n",
      "\tvariable#water__volume_dynamic_viscosity\t0.09000000000000001\n",
      "\tvariable#water__shear_kinematic_viscosity\t0.085\n",
      "\tvariable#water__volume_kinematic_viscosity\t0.08000000000000002\n",
      "++++++++++++++++++++++++++++++++++++++++++++++++++++++++++++\n",
      "Performing search for volume viscosity\n",
      "Here are the top ten search results overall:\n",
      "\tproperty#volume_dynamic_viscosity\t0.6266666666666666\n",
      "\tproperty#volume_kinematic_viscosity\t0.6166666666666666\n",
      "\tproperty#viscosity\t0.515\n",
      "\tproperty#volume\t0.5\n",
      "\tproperty#porosity\t0.35\n",
      "\tvariable#air__volume_dynamic_viscosity\t0.335\n",
      "\tvariable#air__volume_kinematic_viscosity\t0.325\n",
      "\tvariable#water__volume_dynamic_viscosity\t0.325\n",
      "\tvariable#water__volume_kinematic_viscosity\t0.315\n",
      "\tvariable#sea%40context%7Eat_ice__volume_dynamic_viscosity\t0.2483333333333333\n",
      "\n",
      "Here are the top ten search results for variables:\n",
      "\tvariable#air__volume_dynamic_viscosity\t0.335\n",
      "\tvariable#air__volume_kinematic_viscosity\t0.325\n",
      "\tvariable#water__volume_dynamic_viscosity\t0.325\n",
      "\tvariable#water__volume_kinematic_viscosity\t0.315\n",
      "\tvariable#sea%40context%7Eat_ice__volume_dynamic_viscosity\t0.2483333333333333\n",
      "\tvariable#sea%40context%7Eat_ice__volume_kinematic_viscosity\t0.2383333333333333\n",
      "\tvariable#glacier%40context%7Ein_ice__volume_dynamic_viscosity\t0.22833333333333333\n",
      "\tvariable#channel%40context%7Ein_water__volume_dynamic_viscosity\t0.21833333333333332\n",
      "\tvariable#glacier%40context%7Ein_ice__volume_kinematic_viscosity\t0.21833333333333332\n",
      "\tvariable#channel%40context%7Ein_water__volume_kinematic_viscosity\t0.20833333333333331\n",
      "++++++++++++++++++++++++++++++++++++++++++++++++++++++++++++\n",
      "Performing search for rainfall, precipitation\n",
      "Here are the top ten search results overall:\n",
      "\tprocess#precipitation\t1.0\n",
      "\tphenomenon#rainfall\t1.0\n",
      "\tphenomenon#icefall\t0.6859999999999999\n",
      "\tphenomenon#snowfall\t0.6859999999999999\n",
      "\tphenomenon#drizzle\t0.6789999999999999\n",
      "\tproperty#precipitation_duration\t0.455\n",
      "\tphenomenon#water%40role%7Emain_precipitation\t0.42\n",
      "\tproperty#precipitation_mass_flux\t0.2833333333333333\n",
      "\tproperty#precipitation_volume_flux\t0.2733333333333333\n",
      "\tphenomenon#atmosphere%40context%7Esource_icefall\t0.2555\n",
      "\n",
      "Here are the top ten search results for variables:\n",
      "\tvariable#atmosphere%40role%7Esource_ice%40role%7Emain_precipitation__precipitation_duration\t0.04166666666666666\n",
      "\tvariable#atmosphere%40role%7Esource_hail%40role%7Emain_precipitation__precipitation_duration\t0.03666666666666665\n",
      "\tvariable#atmosphere%40role%7Esource_snow%40role%7Emain_precipitation__precipitation_duration\t0.03666666666666665\n",
      "\tvariable#atmosphere%40role%7Esource_sleet%40role%7Emain_precipitation__precipitation_duration\t0.03166666666666665\n",
      "\tvariable#atmosphere%40role%7Esource_water%40role%7Emain_precipitation__precipitation_duration\t0.03166666666666665\n",
      "\tvariable#atmosphere%40role%7Esource_graupel%40role%7Emain_precipitation__precipitation_duration\t0.021666666666666667\n",
      "\tvariable#atmosphere%40role%7Esource_ice%40role%7Emain_precipitation__precipitation_volume_flux\t0.002857142857142836\n",
      "\tvariable#atmosphere%40role%7Esource_water%40role%7Emain_precipitation__precipitation_mass_flux\t0.002857142857142836\n",
      "\tvariable#atmosphere%40role%7Esource_rainfall%40role%7Emain_precipitation__precipitation_mass_flux\t0.002857142857142836\n",
      "\tvariable#atmosphere%40role%7Esource_graupel%40role%7Emain_precipitation__precipitation_volume_flux\t0.0\n",
      "++++++++++++++++++++++++++++++++++++++++++++++++++++++++++++\n"
     ]
    }
   ],
   "source": [
    "def rank_search_test(terms):\n",
    "    print('Performing search for {}'.format(', '.join(terms)))\n",
    "    results = svoapi.rank_search(terms)\n",
    "    print(\"Here are the top ten search results overall:\")\n",
    "    for _,row in results.head(10).iterrows():\n",
    "        print('\\t{}\\t{}'.format(row['entity'].split('/')[-1],row['rank']))\n",
    "    print()\n",
    "    print(\"Here are the top ten search results for variables:\")\n",
    "    for _,row in results.loc[results['entityclass']=='Variable'].head(10).iterrows():\n",
    "        print('\\t{}\\t{}'.format(row['entity'].split('/')[-1],row['rank']))\n",
    "    \n",
    "search_terms = [['viscosity'], ['volume viscosity'], ['rainfall', 'precipitation']]\n",
    "for term in search_terms:\n",
    "    rank_search_test(term)\n",
    "    print('++++++++++++++++++++++++++++++++++++++++++++++++++++++++++++')"
   ]
  },
  {
   "cell_type": "markdown",
   "metadata": {},
   "source": [
    "## 4. parse_tools.py <a class=\"anchor\" id=\"sec-parsetools\"></a>\n",
    "\n",
    "This module contains functionality for parsing text and extract technical terminology. It uses the Stanford Stanza sentence parser to generate sentence part of speech trees, and then extracts extracts relevant information using knowledge of technical linguistic semantic patterns.\n",
    "\n",
    "This module contains functions to perform the following text parsing steps:\n",
    "- extract noun groups (technical terminology)\n",
    "- find existence information about a desired term (e.g., X is defined as Y ...)\n",
    "- find variations on a noun group (e.g. adjective modified)\n",
    "\n",
    "Import module with the following command:"
   ]
  },
  {
   "cell_type": "code",
   "execution_count": 1,
   "metadata": {},
   "outputs": [
    {
     "name": "stderr",
     "output_type": "stream",
     "text": [
      "2020-06-12 10:32:14 INFO: Loading these models for language: en (English):\n",
      "=========================\n",
      "| Processor | Package   |\n",
      "-------------------------\n",
      "| tokenize  | ewt       |\n",
      "| pos       | ewt       |\n",
      "| lemma     | ewt       |\n",
      "| depparse  | ewt       |\n",
      "| ner       | ontonotes |\n",
      "=========================\n",
      "\n",
      "2020-06-12 10:32:14 INFO: Use device: cpu\n",
      "2020-06-12 10:32:14 INFO: Loading: tokenize\n",
      "2020-06-12 10:32:14 INFO: Loading: pos\n",
      "2020-06-12 10:32:15 INFO: Loading: lemma\n",
      "2020-06-12 10:32:15 INFO: Loading: depparse\n",
      "2020-06-12 10:32:16 INFO: Loading: ner\n",
      "2020-06-12 10:32:16 INFO: Done loading processors!\n"
     ]
    }
   ],
   "source": [
    "import parse_tools as pt"
   ]
  },
  {
   "cell_type": "markdown",
   "metadata": {},
   "source": [
    "A section of text from a source, e.g. Wikipedia, can be parsed using parse_page_noun_groups(text) where text is provided as a list of paragraph strings. We can import the Wikipedia API for this test."
   ]
  },
  {
   "cell_type": "code",
   "execution_count": 2,
   "metadata": {},
   "outputs": [],
   "source": [
    "import wikipediaapi as wapi"
   ]
  },
  {
   "cell_type": "code",
   "execution_count": 3,
   "metadata": {},
   "outputs": [],
   "source": [
    "[text, _, _, _] = wapi.get_wikipedia_text('agriculture')"
   ]
  },
  {
   "cell_type": "code",
   "execution_count": 4,
   "metadata": {},
   "outputs": [
    {
     "data": {
      "text/plain": [
       "'Agriculture is the science and art of cultivating plants and livestock.[1] Agriculture was the key development in the rise of sedentary human civilization, whereby farming of domesticated species created food surpluses that enabled people to live in cities. The history of agriculture began thousands of years ago. After gathering wild grains beginning at least 105,000 years ago, nascent farmers began to plant them around 11,500 years ago. Pigs, sheep and cattle were domesticated over 10,000 years ago. Plants were independently cultivated in at least 11 regions of the world. Industrial agriculture based on large-scale monoculture in the twentieth century came to dominate agricultural output, though about 2 billion people still depended on subsistence agriculture into the twenty-first.'"
      ]
     },
     "execution_count": 4,
     "metadata": {},
     "output_type": "execute_result"
    }
   ],
   "source": [
    "text[0]"
   ]
  },
  {
   "cell_type": "markdown",
   "metadata": {},
   "source": [
    "Parsing a page for its noun groups takes a bit of time. In fact, it is the most time-intensive step in the variable exploration tools package."
   ]
  },
  {
   "cell_type": "code",
   "execution_count": 5,
   "metadata": {
    "scrolled": true
   },
   "outputs": [],
   "source": [
    "parsed_text = pt.ParsedDoc(text)"
   ]
  },
  {
   "cell_type": "markdown",
   "metadata": {},
   "source": [
    "The output is in the following format:\n",
    "\n",
    "{ par_no : { sentence_no : { noun_group : {'pos_seq' : [...], 'lemma_seq': [...], *'components': {noun_group: {'pos_seq' : [...], 'lemma_seq': [...]}* }\n",
    "\n",
    "where the 'components' key is only present for noun groups that contain adpositions."
   ]
  },
  {
   "cell_type": "markdown",
   "metadata": {},
   "source": [
    "Examining the first paragraph, first sentence \n",
    "\n",
    "`Agriculture is the science and art of cultivating plants and livestock.`\n",
    "\n",
    "yields:"
   ]
  },
  {
   "cell_type": "code",
   "execution_count": 6,
   "metadata": {},
   "outputs": [
    {
     "data": {
      "text/plain": [
       "{'livestock': {'pos_seq': ['NOUN'],\n",
       "  'lemma_seq': ['livestock'],\n",
       "  'type': 'noun'},\n",
       " 'plants': {'pos_seq': ['NOUN'], 'lemma_seq': ['plant'], 'type': 'noun'},\n",
       " 'art': {'pos_seq': ['NOUN'], 'lemma_seq': ['art'], 'type': 'noun'},\n",
       " 'science': {'pos_seq': ['NOUN'], 'lemma_seq': ['science'], 'type': 'noun'},\n",
       " 'Agriculture': {'pos_seq': ['NOUN'],\n",
       "  'lemma_seq': ['agriculture'],\n",
       "  'type': 'noun'}}"
      ]
     },
     "execution_count": 6,
     "metadata": {},
     "output_type": "execute_result"
    }
   ],
   "source": [
    "parsed_text.paragraphs[1].sentences[1].noun_groups.ng"
   ]
  },
  {
   "cell_type": "markdown",
   "metadata": {},
   "source": [
    "Examining the first paragraph, second sentence \n",
    "\n",
    "`Agriculture was the key development in the rise of sedentary human civilization, whereby farming of domesticated species created food surpluses that enabled people to live in cities.`\n",
    "\n",
    "yields:"
   ]
  },
  {
   "cell_type": "code",
   "execution_count": 7,
   "metadata": {},
   "outputs": [
    {
     "data": {
      "text/plain": [
       "{'cities': {'pos_seq': ['NOUN'], 'lemma_seq': ['city'], 'type': 'noun'},\n",
       " 'people': {'pos_seq': ['NOUN'], 'lemma_seq': ['people'], 'type': 'noun'},\n",
       " 'food surpluses': {'pos_seq': ['NOUN', 'NOUN'],\n",
       "  'lemma_seq': ['food', 'surplus'],\n",
       "  'type': 'noungrp'},\n",
       " 'farming of domesticated species': {'pos_seq': ['NOUN',\n",
       "   'ADPOSITION',\n",
       "   'ADJECTIVE',\n",
       "   'NOUN'],\n",
       "  'lemma_seq': ['farming', 'of', 'domesticated', 'species'],\n",
       "  'type': 'compound',\n",
       "  'components': {'farming': {'pos_seq': ['NOUN'],\n",
       "    'lemma_seq': ['farming'],\n",
       "    'type': 'noun'},\n",
       "   'domesticated species': {'pos_seq': ['ADJECTIVE', 'NOUN'],\n",
       "    'lemma_seq': ['domesticated', 'species'],\n",
       "    'type': 'modnoun',\n",
       "    'has_type': {'species': {'pos_seq': ['NOUN'],\n",
       "      'lemma_seq': ['species'],\n",
       "      'type': 'noun'}},\n",
       "    'has_attribute': {'domesticated': {'pos_seq': ['ADJECTIVE'],\n",
       "      'lemma_seq': ['domesticated'],\n",
       "      'type': 'adj'}}}}},\n",
       " 'rise of sedentary human civilization': {'pos_seq': ['NOUN',\n",
       "   'ADPOSITION',\n",
       "   'ADJECTIVE',\n",
       "   'ADJECTIVE',\n",
       "   'NOUN'],\n",
       "  'lemma_seq': ['rise', 'of', 'sedentary', 'human', 'civilization'],\n",
       "  'type': 'compound',\n",
       "  'components': {'rise': {'pos_seq': ['NOUN'],\n",
       "    'lemma_seq': ['rise'],\n",
       "    'type': 'noun'},\n",
       "   'sedentary human civilization': {'pos_seq': ['ADJECTIVE',\n",
       "     'ADJECTIVE',\n",
       "     'NOUN'],\n",
       "    'lemma_seq': ['sedentary', 'human', 'civilization'],\n",
       "    'type': 'modnoun',\n",
       "    'has_type': {'civilization': {'pos_seq': ['NOUN'],\n",
       "      'lemma_seq': ['civilization'],\n",
       "      'type': 'noun'}},\n",
       "    'has_attribute': {'sedentary': {'pos_seq': ['ADJECTIVE'],\n",
       "      'lemma_seq': ['sedentary'],\n",
       "      'type': 'adj'},\n",
       "     'human': {'pos_seq': ['ADJECTIVE'],\n",
       "      'lemma_seq': ['human'],\n",
       "      'type': 'adj'}}}}},\n",
       " 'key development': {'pos_seq': ['ADJECTIVE', 'NOUN'],\n",
       "  'lemma_seq': ['key', 'development'],\n",
       "  'type': 'modnoun',\n",
       "  'has_type': {'development': {'pos_seq': ['NOUN'],\n",
       "    'lemma_seq': ['development'],\n",
       "    'type': 'noun'}},\n",
       "  'has_attribute': {'key': {'pos_seq': ['ADJECTIVE'],\n",
       "    'lemma_seq': ['key'],\n",
       "    'type': 'adj'}}},\n",
       " 'Agriculture': {'pos_seq': ['NOUN'],\n",
       "  'lemma_seq': ['agriculture'],\n",
       "  'type': 'noun'}}"
      ]
     },
     "execution_count": 7,
     "metadata": {},
     "output_type": "execute_result"
    }
   ],
   "source": [
    "parsed_text.paragraphs[1].sentences[2].noun_groups.ng"
   ]
  },
  {
   "cell_type": "markdown",
   "metadata": {},
   "source": [
    "To find the 'is' paragraph that corresponds to a particular subject, use the following:"
   ]
  },
  {
   "cell_type": "code",
   "execution_count": 8,
   "metadata": {},
   "outputs": [
    {
     "data": {
      "text/plain": [
       "{1: [1]}"
      ]
     },
     "execution_count": 8,
     "metadata": {},
     "output_type": "execute_result"
    }
   ],
   "source": [
    "parsed_text.find_is_nsubj('agriculture')"
   ]
  },
  {
   "cell_type": "markdown",
   "metadata": {},
   "source": [
    "The function returns the paragraph and sentence number for the is sentences, which is the first sentence in the first paragraph (as expected)."
   ]
  },
  {
   "cell_type": "markdown",
   "metadata": {},
   "source": [
    "To count the noun groups on a page related to a term and assign them types, use the following:"
   ]
  },
  {
   "cell_type": "code",
   "execution_count": 9,
   "metadata": {},
   "outputs": [],
   "source": [
    "agriculture_types = parsed_text.get_term_noun_groups('agriculture')"
   ]
  },
  {
   "cell_type": "code",
   "execution_count": 10,
   "metadata": {},
   "outputs": [
    {
     "data": {
      "text/html": [
       "<div>\n",
       "<style scoped>\n",
       "    .dataframe tbody tr th:only-of-type {\n",
       "        vertical-align: middle;\n",
       "    }\n",
       "\n",
       "    .dataframe tbody tr th {\n",
       "        vertical-align: top;\n",
       "    }\n",
       "\n",
       "    .dataframe thead th {\n",
       "        text-align: right;\n",
       "    }\n",
       "</style>\n",
       "<table border=\"1\" class=\"dataframe\">\n",
       "  <thead>\n",
       "    <tr style=\"text-align: right;\">\n",
       "      <th></th>\n",
       "      <th>noun_group</th>\n",
       "      <th>count</th>\n",
       "      <th>type</th>\n",
       "      <th>modified</th>\n",
       "      <th>aspects</th>\n",
       "    </tr>\n",
       "  </thead>\n",
       "  <tbody>\n",
       "    <tr>\n",
       "      <th>68</th>\n",
       "      <td>agriculture</td>\n",
       "      <td>44</td>\n",
       "      <td>simple</td>\n",
       "      <td>False</td>\n",
       "      <td>True</td>\n",
       "    </tr>\n",
       "    <tr>\n",
       "      <th>69</th>\n",
       "      <td>agriculture accounts</td>\n",
       "      <td>2</td>\n",
       "      <td>simple</td>\n",
       "      <td>False</td>\n",
       "      <td>True</td>\n",
       "    </tr>\n",
       "    <tr>\n",
       "      <th>70</th>\n",
       "      <td>agriculture occupation</td>\n",
       "      <td>1</td>\n",
       "      <td>simple</td>\n",
       "      <td>False</td>\n",
       "      <td>True</td>\n",
       "    </tr>\n",
       "    <tr>\n",
       "      <th>71</th>\n",
       "      <td>agriculture sector</td>\n",
       "      <td>1</td>\n",
       "      <td>simple</td>\n",
       "      <td>False</td>\n",
       "      <td>True</td>\n",
       "    </tr>\n",
       "    <tr>\n",
       "      <th>72</th>\n",
       "      <td>agriculture through changes in average tempera...</td>\n",
       "      <td>1</td>\n",
       "      <td>multiple</td>\n",
       "      <td>False</td>\n",
       "      <td>True</td>\n",
       "    </tr>\n",
       "    <tr>\n",
       "      <th>87</th>\n",
       "      <td>ancient egyptian agriculture</td>\n",
       "      <td>1</td>\n",
       "      <td>adjectival</td>\n",
       "      <td>True</td>\n",
       "      <td>False</td>\n",
       "    </tr>\n",
       "    <tr>\n",
       "      <th>121</th>\n",
       "      <td>assessment of agriculture</td>\n",
       "      <td>1</td>\n",
       "      <td>multiple</td>\n",
       "      <td>False</td>\n",
       "      <td>True</td>\n",
       "    </tr>\n",
       "    <tr>\n",
       "      <th>252</th>\n",
       "      <td>conservation agriculture</td>\n",
       "      <td>1</td>\n",
       "      <td>simple</td>\n",
       "      <td>True</td>\n",
       "      <td>False</td>\n",
       "    </tr>\n",
       "    <tr>\n",
       "      <th>262</th>\n",
       "      <td>conventional agriculture</td>\n",
       "      <td>1</td>\n",
       "      <td>adjectival</td>\n",
       "      <td>True</td>\n",
       "      <td>False</td>\n",
       "    </tr>\n",
       "    <tr>\n",
       "      <th>266</th>\n",
       "      <td>cost of agriculture to society</td>\n",
       "      <td>1</td>\n",
       "      <td>multiple</td>\n",
       "      <td>False</td>\n",
       "      <td>True</td>\n",
       "    </tr>\n",
       "  </tbody>\n",
       "</table>\n",
       "</div>"
      ],
      "text/plain": [
       "                                            noun_group count        type  \\\n",
       "68                                         agriculture    44      simple   \n",
       "69                                agriculture accounts     2      simple   \n",
       "70                              agriculture occupation     1      simple   \n",
       "71                                  agriculture sector     1      simple   \n",
       "72   agriculture through changes in average tempera...     1    multiple   \n",
       "87                        ancient egyptian agriculture     1  adjectival   \n",
       "121                          assessment of agriculture     1    multiple   \n",
       "252                           conservation agriculture     1      simple   \n",
       "262                           conventional agriculture     1  adjectival   \n",
       "266                     cost of agriculture to society     1    multiple   \n",
       "\n",
       "     modified  aspects  \n",
       "68      False     True  \n",
       "69      False     True  \n",
       "70      False     True  \n",
       "71      False     True  \n",
       "72      False     True  \n",
       "87       True    False  \n",
       "121     False     True  \n",
       "252      True    False  \n",
       "262      True    False  \n",
       "266     False     True  "
      ]
     },
     "execution_count": 10,
     "metadata": {},
     "output_type": "execute_result"
    }
   ],
   "source": [
    "agriculture_types.head(10)"
   ]
  },
  {
   "cell_type": "code",
   "execution_count": 11,
   "metadata": {},
   "outputs": [
    {
     "data": {
      "text/html": [
       "<div>\n",
       "<style scoped>\n",
       "    .dataframe tbody tr th:only-of-type {\n",
       "        vertical-align: middle;\n",
       "    }\n",
       "\n",
       "    .dataframe tbody tr th {\n",
       "        vertical-align: top;\n",
       "    }\n",
       "\n",
       "    .dataframe thead th {\n",
       "        text-align: right;\n",
       "    }\n",
       "</style>\n",
       "<table border=\"1\" class=\"dataframe\">\n",
       "  <thead>\n",
       "    <tr style=\"text-align: right;\">\n",
       "      <th></th>\n",
       "      <th>noun_group</th>\n",
       "      <th>count</th>\n",
       "      <th>type</th>\n",
       "      <th>modified</th>\n",
       "      <th>aspects</th>\n",
       "    </tr>\n",
       "  </thead>\n",
       "  <tbody>\n",
       "    <tr>\n",
       "      <th>87</th>\n",
       "      <td>ancient egyptian agriculture</td>\n",
       "      <td>1</td>\n",
       "      <td>adjectival</td>\n",
       "      <td>True</td>\n",
       "      <td>False</td>\n",
       "    </tr>\n",
       "    <tr>\n",
       "      <th>252</th>\n",
       "      <td>conservation agriculture</td>\n",
       "      <td>1</td>\n",
       "      <td>simple</td>\n",
       "      <td>True</td>\n",
       "      <td>False</td>\n",
       "    </tr>\n",
       "    <tr>\n",
       "      <th>262</th>\n",
       "      <td>conventional agriculture</td>\n",
       "      <td>1</td>\n",
       "      <td>adjectival</td>\n",
       "      <td>True</td>\n",
       "      <td>False</td>\n",
       "    </tr>\n",
       "    <tr>\n",
       "      <th>321</th>\n",
       "      <td>density agriculture</td>\n",
       "      <td>1</td>\n",
       "      <td>simple</td>\n",
       "      <td>True</td>\n",
       "      <td>False</td>\n",
       "    </tr>\n",
       "    <tr>\n",
       "      <th>358</th>\n",
       "      <td>domestic agriculture</td>\n",
       "      <td>1</td>\n",
       "      <td>adjectival</td>\n",
       "      <td>True</td>\n",
       "      <td>False</td>\n",
       "    </tr>\n",
       "    <tr>\n",
       "      <th>412</th>\n",
       "      <td>environment agriculture</td>\n",
       "      <td>1</td>\n",
       "      <td>simple</td>\n",
       "      <td>True</td>\n",
       "      <td>False</td>\n",
       "    </tr>\n",
       "    <tr>\n",
       "      <th>739</th>\n",
       "      <td>industrial agriculture</td>\n",
       "      <td>1</td>\n",
       "      <td>adjectival</td>\n",
       "      <td>True</td>\n",
       "      <td>False</td>\n",
       "    </tr>\n",
       "    <tr>\n",
       "      <th>760</th>\n",
       "      <td>intensive agriculture</td>\n",
       "      <td>1</td>\n",
       "      <td>adjectival</td>\n",
       "      <td>True</td>\n",
       "      <td>False</td>\n",
       "    </tr>\n",
       "    <tr>\n",
       "      <th>900</th>\n",
       "      <td>measure agriculture</td>\n",
       "      <td>1</td>\n",
       "      <td>simple</td>\n",
       "      <td>True</td>\n",
       "      <td>False</td>\n",
       "    </tr>\n",
       "    <tr>\n",
       "      <th>920</th>\n",
       "      <td>modern agriculture</td>\n",
       "      <td>1</td>\n",
       "      <td>adjectival</td>\n",
       "      <td>True</td>\n",
       "      <td>False</td>\n",
       "    </tr>\n",
       "    <tr>\n",
       "      <th>1297</th>\n",
       "      <td>smallholder agriculture</td>\n",
       "      <td>1</td>\n",
       "      <td>simple</td>\n",
       "      <td>True</td>\n",
       "      <td>False</td>\n",
       "    </tr>\n",
       "    <tr>\n",
       "      <th>1340</th>\n",
       "      <td>subsistence agriculture</td>\n",
       "      <td>1</td>\n",
       "      <td>simple</td>\n",
       "      <td>True</td>\n",
       "      <td>False</td>\n",
       "    </tr>\n",
       "    <tr>\n",
       "      <th>1523</th>\n",
       "      <td>word agriculture</td>\n",
       "      <td>1</td>\n",
       "      <td>simple</td>\n",
       "      <td>True</td>\n",
       "      <td>False</td>\n",
       "    </tr>\n",
       "  </tbody>\n",
       "</table>\n",
       "</div>"
      ],
      "text/plain": [
       "                        noun_group count        type  modified  aspects\n",
       "87    ancient egyptian agriculture     1  adjectival      True    False\n",
       "252       conservation agriculture     1      simple      True    False\n",
       "262       conventional agriculture     1  adjectival      True    False\n",
       "321            density agriculture     1      simple      True    False\n",
       "358           domestic agriculture     1  adjectival      True    False\n",
       "412        environment agriculture     1      simple      True    False\n",
       "739         industrial agriculture     1  adjectival      True    False\n",
       "760          intensive agriculture     1  adjectival      True    False\n",
       "900            measure agriculture     1      simple      True    False\n",
       "920             modern agriculture     1  adjectival      True    False\n",
       "1297       smallholder agriculture     1      simple      True    False\n",
       "1340       subsistence agriculture     1      simple      True    False\n",
       "1523              word agriculture     1      simple      True    False"
      ]
     },
     "execution_count": 11,
     "metadata": {},
     "output_type": "execute_result"
    }
   ],
   "source": [
    "agriculture_types[agriculture_types['modified']]"
   ]
  },
  {
   "cell_type": "code",
   "execution_count": 12,
   "metadata": {},
   "outputs": [
    {
     "data": {
      "text/html": [
       "<div>\n",
       "<style scoped>\n",
       "    .dataframe tbody tr th:only-of-type {\n",
       "        vertical-align: middle;\n",
       "    }\n",
       "\n",
       "    .dataframe tbody tr th {\n",
       "        vertical-align: top;\n",
       "    }\n",
       "\n",
       "    .dataframe thead th {\n",
       "        text-align: right;\n",
       "    }\n",
       "</style>\n",
       "<table border=\"1\" class=\"dataframe\">\n",
       "  <thead>\n",
       "    <tr style=\"text-align: right;\">\n",
       "      <th></th>\n",
       "      <th>noun_group</th>\n",
       "      <th>count</th>\n",
       "      <th>type</th>\n",
       "      <th>modified</th>\n",
       "      <th>aspects</th>\n",
       "    </tr>\n",
       "  </thead>\n",
       "  <tbody>\n",
       "    <tr>\n",
       "      <th>68</th>\n",
       "      <td>agriculture</td>\n",
       "      <td>44</td>\n",
       "      <td>simple</td>\n",
       "      <td>False</td>\n",
       "      <td>True</td>\n",
       "    </tr>\n",
       "    <tr>\n",
       "      <th>69</th>\n",
       "      <td>agriculture accounts</td>\n",
       "      <td>2</td>\n",
       "      <td>simple</td>\n",
       "      <td>False</td>\n",
       "      <td>True</td>\n",
       "    </tr>\n",
       "    <tr>\n",
       "      <th>70</th>\n",
       "      <td>agriculture occupation</td>\n",
       "      <td>1</td>\n",
       "      <td>simple</td>\n",
       "      <td>False</td>\n",
       "      <td>True</td>\n",
       "    </tr>\n",
       "    <tr>\n",
       "      <th>71</th>\n",
       "      <td>agriculture sector</td>\n",
       "      <td>1</td>\n",
       "      <td>simple</td>\n",
       "      <td>False</td>\n",
       "      <td>True</td>\n",
       "    </tr>\n",
       "    <tr>\n",
       "      <th>72</th>\n",
       "      <td>agriculture through changes in average tempera...</td>\n",
       "      <td>1</td>\n",
       "      <td>multiple</td>\n",
       "      <td>False</td>\n",
       "      <td>True</td>\n",
       "    </tr>\n",
       "    <tr>\n",
       "      <th>121</th>\n",
       "      <td>assessment of agriculture</td>\n",
       "      <td>1</td>\n",
       "      <td>multiple</td>\n",
       "      <td>False</td>\n",
       "      <td>True</td>\n",
       "    </tr>\n",
       "    <tr>\n",
       "      <th>266</th>\n",
       "      <td>cost of agriculture to society</td>\n",
       "      <td>1</td>\n",
       "      <td>multiple</td>\n",
       "      <td>False</td>\n",
       "      <td>True</td>\n",
       "    </tr>\n",
       "    <tr>\n",
       "      <th>322</th>\n",
       "      <td>density agriculture in loose rotation</td>\n",
       "      <td>1</td>\n",
       "      <td>multiple</td>\n",
       "      <td>False</td>\n",
       "      <td>True</td>\n",
       "    </tr>\n",
       "    <tr>\n",
       "      <th>332</th>\n",
       "      <td>development of agriculture</td>\n",
       "      <td>1</td>\n",
       "      <td>multiple</td>\n",
       "      <td>False</td>\n",
       "      <td>True</td>\n",
       "    </tr>\n",
       "    <tr>\n",
       "      <th>415</th>\n",
       "      <td>environmental effects of conventional agriculture</td>\n",
       "      <td>1</td>\n",
       "      <td>multiple</td>\n",
       "      <td>False</td>\n",
       "      <td>True</td>\n",
       "    </tr>\n",
       "    <tr>\n",
       "      <th>445</th>\n",
       "      <td>extent of agriculture</td>\n",
       "      <td>1</td>\n",
       "      <td>multiple</td>\n",
       "      <td>False</td>\n",
       "      <td>True</td>\n",
       "    </tr>\n",
       "    <tr>\n",
       "      <th>491</th>\n",
       "      <td>field of agriculture</td>\n",
       "      <td>1</td>\n",
       "      <td>multiple</td>\n",
       "      <td>False</td>\n",
       "      <td>True</td>\n",
       "    </tr>\n",
       "    <tr>\n",
       "      <th>697</th>\n",
       "      <td>historical origins of agriculture</td>\n",
       "      <td>1</td>\n",
       "      <td>multiple</td>\n",
       "      <td>False</td>\n",
       "      <td>True</td>\n",
       "    </tr>\n",
       "    <tr>\n",
       "      <th>699</th>\n",
       "      <td>history of agriculture</td>\n",
       "      <td>1</td>\n",
       "      <td>multiple</td>\n",
       "      <td>False</td>\n",
       "      <td>True</td>\n",
       "    </tr>\n",
       "    <tr>\n",
       "      <th>731</th>\n",
       "      <td>increase in smallholder agriculture</td>\n",
       "      <td>1</td>\n",
       "      <td>multiple</td>\n",
       "      <td>False</td>\n",
       "      <td>True</td>\n",
       "    </tr>\n",
       "    <tr>\n",
       "      <th>877</th>\n",
       "      <td>major trends in agriculture</td>\n",
       "      <td>1</td>\n",
       "      <td>multiple</td>\n",
       "      <td>False</td>\n",
       "      <td>True</td>\n",
       "    </tr>\n",
       "    <tr>\n",
       "      <th>1223</th>\n",
       "      <td>risk of negative climate change impacts on agr...</td>\n",
       "      <td>1</td>\n",
       "      <td>multiple</td>\n",
       "      <td>False</td>\n",
       "      <td>True</td>\n",
       "    </tr>\n",
       "    <tr>\n",
       "      <th>1235</th>\n",
       "      <td>safety directives in agriculture</td>\n",
       "      <td>1</td>\n",
       "      <td>multiple</td>\n",
       "      <td>False</td>\n",
       "      <td>True</td>\n",
       "    </tr>\n",
       "    <tr>\n",
       "      <th>1246</th>\n",
       "      <td>scientific study of agriculture</td>\n",
       "      <td>1</td>\n",
       "      <td>multiple</td>\n",
       "      <td>False</td>\n",
       "      <td>True</td>\n",
       "    </tr>\n",
       "    <tr>\n",
       "      <th>1353</th>\n",
       "      <td>sustainable agriculture movements</td>\n",
       "      <td>1</td>\n",
       "      <td>adjectival</td>\n",
       "      <td>False</td>\n",
       "      <td>True</td>\n",
       "    </tr>\n",
       "    <tr>\n",
       "      <th>1411</th>\n",
       "      <td>total factor productivity of agriculture</td>\n",
       "      <td>1</td>\n",
       "      <td>multiple</td>\n",
       "      <td>False</td>\n",
       "      <td>True</td>\n",
       "    </tr>\n",
       "    <tr>\n",
       "      <th>1439</th>\n",
       "      <td>understanding of agriculture</td>\n",
       "      <td>1</td>\n",
       "      <td>multiple</td>\n",
       "      <td>False</td>\n",
       "      <td>True</td>\n",
       "    </tr>\n",
       "    <tr>\n",
       "      <th>1482</th>\n",
       "      <td>vulnerable population in agriculture</td>\n",
       "      <td>1</td>\n",
       "      <td>multiple</td>\n",
       "      <td>False</td>\n",
       "      <td>True</td>\n",
       "    </tr>\n",
       "  </tbody>\n",
       "</table>\n",
       "</div>"
      ],
      "text/plain": [
       "                                             noun_group count        type  \\\n",
       "68                                          agriculture    44      simple   \n",
       "69                                 agriculture accounts     2      simple   \n",
       "70                               agriculture occupation     1      simple   \n",
       "71                                   agriculture sector     1      simple   \n",
       "72    agriculture through changes in average tempera...     1    multiple   \n",
       "121                           assessment of agriculture     1    multiple   \n",
       "266                      cost of agriculture to society     1    multiple   \n",
       "322               density agriculture in loose rotation     1    multiple   \n",
       "332                          development of agriculture     1    multiple   \n",
       "415   environmental effects of conventional agriculture     1    multiple   \n",
       "445                               extent of agriculture     1    multiple   \n",
       "491                                field of agriculture     1    multiple   \n",
       "697                   historical origins of agriculture     1    multiple   \n",
       "699                              history of agriculture     1    multiple   \n",
       "731                 increase in smallholder agriculture     1    multiple   \n",
       "877                         major trends in agriculture     1    multiple   \n",
       "1223  risk of negative climate change impacts on agr...     1    multiple   \n",
       "1235                   safety directives in agriculture     1    multiple   \n",
       "1246                    scientific study of agriculture     1    multiple   \n",
       "1353                  sustainable agriculture movements     1  adjectival   \n",
       "1411           total factor productivity of agriculture     1    multiple   \n",
       "1439                       understanding of agriculture     1    multiple   \n",
       "1482               vulnerable population in agriculture     1    multiple   \n",
       "\n",
       "      modified  aspects  \n",
       "68       False     True  \n",
       "69       False     True  \n",
       "70       False     True  \n",
       "71       False     True  \n",
       "72       False     True  \n",
       "121      False     True  \n",
       "266      False     True  \n",
       "322      False     True  \n",
       "332      False     True  \n",
       "415      False     True  \n",
       "445      False     True  \n",
       "491      False     True  \n",
       "697      False     True  \n",
       "699      False     True  \n",
       "731      False     True  \n",
       "877      False     True  \n",
       "1223     False     True  \n",
       "1235     False     True  \n",
       "1246     False     True  \n",
       "1353     False     True  \n",
       "1411     False     True  \n",
       "1439     False     True  \n",
       "1482     False     True  "
      ]
     },
     "execution_count": 12,
     "metadata": {},
     "output_type": "execute_result"
    }
   ],
   "source": [
    "agriculture_types[agriculture_types['aspects']]"
   ]
  },
  {
   "cell_type": "markdown",
   "metadata": {},
   "source": [
    "The modified and aspects columns flag noun groups containing the desired filter term (in this case agriculture). Modified terms are those that modify agriculture with a noun or adjective at the head (to specify a 'type' of agriculture). Aspects terms are those that modify the desired term with a noun at the tail or contain adpositions; these are different 'dimensions' in which the term agriculture may be encountered."
   ]
  },
  {
   "cell_type": "code",
   "execution_count": null,
   "metadata": {},
   "outputs": [],
   "source": []
  }
 ],
 "metadata": {
  "kernelspec": {
   "display_name": "Python 3",
   "language": "python",
   "name": "python3"
  },
  "language_info": {
   "codemirror_mode": {
    "name": "ipython",
    "version": 3
   },
   "file_extension": ".py",
   "mimetype": "text/x-python",
   "name": "python",
   "nbconvert_exporter": "python",
   "pygments_lexer": "ipython3",
   "version": "3.6.9"
  }
 },
 "nbformat": 4,
 "nbformat_minor": 4
}
