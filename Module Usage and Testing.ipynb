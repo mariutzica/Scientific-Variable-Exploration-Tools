{
 "cells": [
  {
   "cell_type": "markdown",
   "metadata": {},
   "source": [
    "This notebook reviews all of the variable search & exploration components modules."
   ]
  },
  {
   "cell_type": "markdown",
   "metadata": {},
   "source": [
    "## Table of contents:\n",
    "1. [wiktiwordnetapi.py](#sec-wwn)\n",
    "2. [wikipediaapi.py](#sec-wapi)\n",
    "3. [svoapi.py](#sec-svoapi)\n",
    "4. [parse_tools.py](#sec-parsetools)"
   ]
  },
  {
   "cell_type": "markdown",
   "metadata": {},
   "source": [
    "## 1. wiktiwordnetapi.py <a class=\"anchor\" id=\"sec-wwn\"></a>\n",
    "\n",
    "This module loads the generated WiktiWordNet data and has two interaction functions:\n",
    " - check_domain(term) - checks if the selected term refers to a domain\n",
    " - get_category(term) - returns a dictionary of {category:definition} pairs for the selected term"
   ]
  },
  {
   "cell_type": "markdown",
   "metadata": {},
   "source": [
    "The wiktiwornetapi can be imported with the following command:"
   ]
  },
  {
   "cell_type": "code",
   "execution_count": 1,
   "metadata": {},
   "outputs": [],
   "source": [
    "import wiktiwordnetapi as wwnapi"
   ]
  },
  {
   "cell_type": "markdown",
   "metadata": {},
   "source": [
    "Next, instantiate a WiktiWordNet object with the following command:"
   ]
  },
  {
   "cell_type": "code",
   "execution_count": 2,
   "metadata": {},
   "outputs": [],
   "source": [
    "wwn = wwnapi.wiktiwordnet()"
   ]
  },
  {
   "cell_type": "markdown",
   "metadata": {},
   "source": [
    "Test the functionality of the two methods available:"
   ]
  },
  {
   "cell_type": "code",
   "execution_count": 3,
   "metadata": {},
   "outputs": [
    {
     "name": "stdout",
     "output_type": "stream",
     "text": [
      "According to WiktiWordNet, dogs is NOT a domain.\n",
      "According to WiktiWordNet, astronomy is a domain.\n",
      "According to WiktiWordNet, geology is a domain.\n",
      "According to WiktiWordNet, astrology is NOT a domain.\n"
     ]
    }
   ],
   "source": [
    "def print_domain_status(term):\n",
    "    [is_domain, definition] = wwn.check_domain(term)\n",
    "    \n",
    "    print('According to WiktiWordNet, {} is {}a domain.'\\\n",
    "          .format(term, '' if is_domain else 'NOT '))\n",
    "    \n",
    "for term in ['dogs', 'astronomy', 'geology', 'astrology']:\n",
    "    print_domain_status(term)\n"
   ]
  },
  {
   "cell_type": "code",
   "execution_count": 4,
   "metadata": {},
   "outputs": [
    {
     "name": "stdout",
     "output_type": "stream",
     "text": [
      "Found the following categories for dog:\n",
      "Body, Role\n",
      "Found the following category for astronomy:\n",
      "Domain\n",
      "WiktiWordnet does not have any categories for the term butter.\n"
     ]
    }
   ],
   "source": [
    "def print_term_categories(term):\n",
    "    categories = wwn.get_category(term)\n",
    "    \n",
    "    num_categories = len(list(categories.keys()))\n",
    "    if num_categories == 0:\n",
    "        print('WiktiWordnet does not have any categories for the term {}.'\\\n",
    "              .format(term))\n",
    "    else:\n",
    "        print('Found the following {} for {}:'\\\n",
    "              .format('categories' if num_categories > 1 else 'category', term))\n",
    "        print(', '.join(list(categories.keys())))\n",
    "    \n",
    "for term in ['dog', 'astronomy', 'butter']:\n",
    "    print_term_categories(term)"
   ]
  },
  {
   "cell_type": "markdown",
   "metadata": {},
   "source": [
    "## 2. wikipediaapi.py <a class=\"anchor\" id=\"sec-wapi\"></a>"
   ]
  },
  {
   "cell_type": "markdown",
   "metadata": {},
   "source": [
    "The functions contained in this module can be used to interact with Wikipedia. They can\n",
    "- perform a search and return the top/most relevant result according to the Wikipedia algorithm\n",
    "- get the \"bulk\" text from a Wikipedia page (discarding panel information)\n",
    "\n",
    "The main function to be used from this module is:\n",
    "- get_wikipedia_text(term) : returns the text and metadata information from most closely related Wikipedia page\n",
    "\n",
    "And there are two helper functions present:\n",
    "- get_top_wikipedia_entry(term) : returns metadata information about most closely related Wikipedia page\n",
    "- parse_wikipedia_page(pageid) : returns the text and disambugation information about the Wikipedia page"
   ]
  },
  {
   "cell_type": "markdown",
   "metadata": {},
   "source": [
    "Load the module as follows:"
   ]
  },
  {
   "cell_type": "code",
   "execution_count": 1,
   "metadata": {},
   "outputs": [],
   "source": [
    "import wikipediaapi as wapi"
   ]
  },
  {
   "cell_type": "markdown",
   "metadata": {},
   "source": [
    "First, test the helper functions."
   ]
  },
  {
   "cell_type": "code",
   "execution_count": 2,
   "metadata": {},
   "outputs": [
    {
     "name": "stdout",
     "output_type": "stream",
     "text": [
      "Found the following Wikipedia page for dog:\n",
      "Title: Dog\n",
      "Page ID: 4269567\n",
      "Found the following Wikipedia page for crop production:\n",
      "Title: Agriculture\n",
      "Page ID: 627\n",
      "Redirect Title: Crop production\n",
      "Found the following Wikipedia page for conductivity:\n",
      "Title: Conductivity\n",
      "Page ID: 403990\n",
      "Did not find a relevant Wikipedia page for hafdkj.\n"
     ]
    }
   ],
   "source": [
    "def get_wikipedia_page_info(term):\n",
    "    results = wapi.get_top_wikipedia_entry(term)\n",
    "    \n",
    "    if results == {}:\n",
    "        print('Did not find a relevant Wikipedia page for {}.'.format(term))\n",
    "    else:\n",
    "        print('Found the following Wikipedia page for {}:'.format(term))\n",
    "        if 'title' in results.keys():\n",
    "            print('Title: {}'.format(results['title']))\n",
    "        if 'pageid' in results.keys():\n",
    "            print('Page ID: {}'.format(results['pageid']))\n",
    "        if 'redirecttitle' in results.keys():\n",
    "            print('Redirect Title: {}'.format(results['redirecttitle']))\n",
    "        if 'sectiontitle' in results.keys():\n",
    "            print('Section Title: {}'.format(results['sectiontitle']))\n",
    "\n",
    "for term in ['dog', 'crop production', 'conductivity', 'hafdkj']:\n",
    "    get_wikipedia_page_info(term)"
   ]
  },
  {
   "cell_type": "code",
   "execution_count": 3,
   "metadata": {},
   "outputs": [
    {
     "name": "stdout",
     "output_type": "stream",
     "text": [
      "Here are the first few lines of page id 4269567:\n",
      "\n",
      "Page with id 403990 is a disambiguation page.\n",
      "Here are the first few lines of page id 403990:\n",
      "Electrical conductivity\n",
      "Here are the first few lines of page id 0:\n",
      "\n"
     ]
    }
   ],
   "source": [
    "def get_wikipedia_text_info(pageid):\n",
    "    [text, disambig] = wapi.parse_wikipedia_page(pageid)\n",
    "    \n",
    "    if disambig:\n",
    "        print('Page with id {} is a disambiguation page.'.format(pageid))\n",
    "    if text != []:\n",
    "        print('Here are the first few lines of page id {}:'.format(pageid) )\n",
    "        print(text[0])\n",
    "        \n",
    "for term in [4269567, 403990, 0]:\n",
    "    get_wikipedia_text_info(term)"
   ]
  },
  {
   "cell_type": "markdown",
   "metadata": {},
   "source": [
    "Now, test the main function:"
   ]
  },
  {
   "cell_type": "code",
   "execution_count": 4,
   "metadata": {},
   "outputs": [
    {
     "name": "stdout",
     "output_type": "stream",
     "text": [
      "Page Title for term dog: dog\n",
      "Here is the first paragraph of the page for term dog:\n",
      "Canis familiaris Linnaeus, 1758[2][3]\n",
      "==================================\n",
      "Page Title for term crop production: agriculture\n",
      "Redirect title for term crop production page is: crop production.\n",
      "Here is the first paragraph of the page for term crop production:\n",
      "Agriculture is the science and art of cultivating plants and livestock.[1] Agriculture was the key development in the rise of sedentary human civilization, whereby farming of domesticated species created food surpluses that enabled people to live in cities. The history of agriculture began thousands of years ago. After gathering wild grains beginning at least 105,000 years ago, nascent farmers began to plant them around 11,500 years ago. Pigs, sheep and cattle were domesticated over 10,000 years ago. Plants were independently cultivated in at least 11 regions of the world. Industrial agriculture based on large-scale monoculture in the twentieth century came to dominate agricultural output, though about 2 billion people still depended on subsistence agriculture into the twenty-first.\n",
      "==================================\n",
      "Page Title for term conductivity: conductivity\n",
      "Page for term conductivity is a disambiguation page.\n",
      "Here is the first paragraph of the page for term conductivity:\n",
      "Electrical conductivity\n",
      "==================================\n",
      "No page found for term hafdkj.\n",
      "==================================\n"
     ]
    }
   ],
   "source": [
    "def get_wikipedia_text(term):\n",
    "    [text, disambig, title, redirecttitle] = wapi.get_wikipedia_text(term)\n",
    "    \n",
    "    if title == '':\n",
    "        print('No page found for term {}.'.format(term))\n",
    "    else:\n",
    "        print('Page Title for term {}: {}'.format(term, title))\n",
    "    if redirecttitle != '':\n",
    "        print('Redirect title for term {} page is: {}.'.format(term, redirecttitle))\n",
    "    if disambig:\n",
    "        print('Page for term {} is a disambiguation page.'.format(term))\n",
    "    if text != []:\n",
    "        print('Here is the first paragraph of the page for term {}:'.format(term) )\n",
    "        print(text[0])\n",
    "\n",
    "for term in ['dog', 'crop production', 'conductivity', 'hafdkj']:\n",
    "    get_wikipedia_text(term)\n",
    "    print('==================================')\n",
    "    "
   ]
  },
  {
   "cell_type": "markdown",
   "metadata": {},
   "source": [
    "## 3. svoapi.py <a class=\"anchor\" id=\"sec-svoapi\"></a>"
   ]
  },
  {
   "cell_type": "markdown",
   "metadata": {},
   "source": [
    "This module interacts with the SVO SPARQL endpoint to do term search\n",
    " \n",
    "The main function to be used from this module is:\n",
    "- search_rank(term) : returns a pandas dataframe of directly labeled entities and linked entities related to the search term(s) as well as a rank (from 0 to 1) of the match\n",
    "\n",
    "There are three helper functions present in the module:\n",
    "- search(term) : returns a pandas dataframe of directly labeled entities and linked entities related to the search term(s)\n",
    "- search_entity_links(entities) : return a Pandas dataframe containing the columns: term, entity, entitylabel, entityclass, linkedentity, linkedentitylabel, linkedentityclass\n",
    "    - linkedentity (and label, class) will be one of the entities passed in\n",
    "    - entity (and label, class) will be the entities linked to that entity\n",
    "- search_label(term) : return a Pandas dataframe containing the columns: term, entity, entitylabel, entityclass"
   ]
  },
  {
   "cell_type": "markdown",
   "metadata": {},
   "source": [
    "Load the module as follows:"
   ]
  },
  {
   "cell_type": "code",
   "execution_count": 1,
   "metadata": {},
   "outputs": [],
   "source": [
    "import svoapi"
   ]
  },
  {
   "cell_type": "markdown",
   "metadata": {},
   "source": [
    "Test the rank search functionality:"
   ]
  },
  {
   "cell_type": "code",
   "execution_count": 2,
   "metadata": {},
   "outputs": [
    {
     "name": "stdout",
     "output_type": "stream",
     "text": [
      "Performing search for viscosity\n",
      "Here are the top ten search results overall:\n",
      "\tproperty#viscosity\t1.0\n",
      "\tproperty#viscosity_term\t0.475\n",
      "\tproperty#dynamic_viscosity\t0.46\n",
      "\tproperty#apparent_viscosity\t0.455\n",
      "\tproperty#kinematic_viscosity\t0.45\n",
      "\tproperty#power-law-fluid_viscosity\t0.42\n",
      "\tproperty#log10_of_dynamic_viscosity\t0.2633333333333333\n",
      "\tproperty#shear_dynamic_viscosity\t0.2633333333333333\n",
      "\tproperty#volume_dynamic_viscosity\t0.2583333333333333\n",
      "\tproperty#shear_kinematic_viscosity\t0.2533333333333333\n",
      "\n",
      "Here are the top ten search results for variables:\n",
      "\tvariable#sea%40context%7Ein_%28water_eddy%29__viscosity\t0.14500000000000002\n",
      "\tvariable#air__shear_dynamic_viscosity\t0.10500000000000001\n",
      "\tvariable#air__volume_dynamic_viscosity\t0.1\n",
      "\tvariable#air__shear_kinematic_viscosity\t0.09500000000000001\n",
      "\tvariable#polymer__extensional_kinematic_viscosity\t0.09500000000000001\n",
      "\tvariable#water__shear_dynamic_viscosity\t0.09500000000000001\n",
      "\tvariable#air__volume_kinematic_viscosity\t0.09000000000000001\n",
      "\tvariable#water__volume_dynamic_viscosity\t0.09000000000000001\n",
      "\tvariable#water__shear_kinematic_viscosity\t0.085\n",
      "\tvariable#water__volume_kinematic_viscosity\t0.08000000000000002\n",
      "++++++++++++++++++++++++++++++++++++++++++++++++++++++++++++\n",
      "Performing search for volume viscosity\n",
      "Here are the top ten search results overall:\n",
      "\tproperty#volume_dynamic_viscosity\t0.6266666666666666\n",
      "\tproperty#volume_kinematic_viscosity\t0.6166666666666666\n",
      "\tproperty#viscosity\t0.515\n",
      "\tproperty#volume\t0.5\n",
      "\tproperty#porosity\t0.35\n",
      "\tvariable#air__volume_dynamic_viscosity\t0.335\n",
      "\tvariable#air__volume_kinematic_viscosity\t0.325\n",
      "\tvariable#water__volume_dynamic_viscosity\t0.325\n",
      "\tvariable#water__volume_kinematic_viscosity\t0.315\n",
      "\tvariable#sea%40context%7Eat_ice__volume_dynamic_viscosity\t0.2483333333333333\n",
      "\n",
      "Here are the top ten search results for variables:\n",
      "\tvariable#air__volume_dynamic_viscosity\t0.335\n",
      "\tvariable#air__volume_kinematic_viscosity\t0.325\n",
      "\tvariable#water__volume_dynamic_viscosity\t0.325\n",
      "\tvariable#water__volume_kinematic_viscosity\t0.315\n",
      "\tvariable#sea%40context%7Eat_ice__volume_dynamic_viscosity\t0.2483333333333333\n",
      "\tvariable#sea%40context%7Eat_ice__volume_kinematic_viscosity\t0.2383333333333333\n",
      "\tvariable#glacier%40context%7Ein_ice__volume_dynamic_viscosity\t0.22833333333333333\n",
      "\tvariable#channel%40context%7Ein_water__volume_dynamic_viscosity\t0.21833333333333332\n",
      "\tvariable#glacier%40context%7Ein_ice__volume_kinematic_viscosity\t0.21833333333333332\n",
      "\tvariable#channel%40context%7Ein_water__volume_kinematic_viscosity\t0.20833333333333331\n",
      "++++++++++++++++++++++++++++++++++++++++++++++++++++++++++++\n",
      "Performing search for rainfall, precipitation\n",
      "Here are the top ten search results overall:\n",
      "\tprocess#precipitation\t1.0\n",
      "\tphenomenon#rainfall\t1.0\n",
      "\tphenomenon#icefall\t0.6859999999999999\n",
      "\tphenomenon#snowfall\t0.6859999999999999\n",
      "\tphenomenon#drizzle\t0.6789999999999999\n",
      "\tproperty#precipitation_duration\t0.455\n",
      "\tphenomenon#water%40role%7Emain_precipitation\t0.42\n",
      "\tproperty#precipitation_mass_flux\t0.2833333333333333\n",
      "\tproperty#precipitation_volume_flux\t0.2733333333333333\n",
      "\tphenomenon#atmosphere%40context%7Esource_icefall\t0.2555\n",
      "\n",
      "Here are the top ten search results for variables:\n",
      "\tvariable#atmosphere%40role%7Esource_ice%40role%7Emain_precipitation__precipitation_duration\t0.04166666666666666\n",
      "\tvariable#atmosphere%40role%7Esource_hail%40role%7Emain_precipitation__precipitation_duration\t0.03666666666666665\n",
      "\tvariable#atmosphere%40role%7Esource_snow%40role%7Emain_precipitation__precipitation_duration\t0.03666666666666665\n",
      "\tvariable#atmosphere%40role%7Esource_sleet%40role%7Emain_precipitation__precipitation_duration\t0.03166666666666665\n",
      "\tvariable#atmosphere%40role%7Esource_water%40role%7Emain_precipitation__precipitation_duration\t0.03166666666666665\n",
      "\tvariable#atmosphere%40role%7Esource_graupel%40role%7Emain_precipitation__precipitation_duration\t0.021666666666666667\n",
      "\tvariable#atmosphere%40role%7Esource_ice%40role%7Emain_precipitation__precipitation_volume_flux\t0.002857142857142836\n",
      "\tvariable#atmosphere%40role%7Esource_water%40role%7Emain_precipitation__precipitation_mass_flux\t0.002857142857142836\n",
      "\tvariable#atmosphere%40role%7Esource_rainfall%40role%7Emain_precipitation__precipitation_mass_flux\t0.002857142857142836\n",
      "\tvariable#atmosphere%40role%7Esource_graupel%40role%7Emain_precipitation__precipitation_volume_flux\t0.0\n",
      "++++++++++++++++++++++++++++++++++++++++++++++++++++++++++++\n"
     ]
    }
   ],
   "source": [
    "def rank_search_test(terms):\n",
    "    print('Performing search for {}'.format(', '.join(terms)))\n",
    "    results = svoapi.rank_search(terms)\n",
    "    print(\"Here are the top ten search results overall:\")\n",
    "    for _,row in results.head(10).iterrows():\n",
    "        print('\\t{}\\t{}'.format(row['entity'].split('/')[-1],row['rank']))\n",
    "    print()\n",
    "    print(\"Here are the top ten search results for variables:\")\n",
    "    for _,row in results.loc[results['entityclass']=='Variable'].head(10).iterrows():\n",
    "        print('\\t{}\\t{}'.format(row['entity'].split('/')[-1],row['rank']))\n",
    "    \n",
    "search_terms = [['viscosity'], ['volume viscosity'], ['rainfall', 'precipitation']]\n",
    "for term in search_terms:\n",
    "    rank_search_test(term)\n",
    "    print('++++++++++++++++++++++++++++++++++++++++++++++++++++++++++++')"
   ]
  },
  {
   "cell_type": "markdown",
   "metadata": {},
   "source": [
    "## 4. parse_tools.py <a class=\"anchor\" id=\"sec-parsetools\"></a>\n",
    "\n",
    "This module contains functionality for parsing text and extract technical terminology. It uses the Stanford Stanza sentence parser to generate sentence part of speech trees, and then extracts extracts relevant information using knowledge of technical linguistic semantic patterns.\n",
    "\n",
    "This module contains functions to perform the following text parsing steps:\n",
    "- extract noun groups (technical terminology)\n",
    "- find existence information about a desired term (e.g., X is defined as Y ...)\n",
    "- find variations on a noun group (e.g. adjective modified)\n",
    "\n",
    "Import module with the following command:"
   ]
  },
  {
   "cell_type": "code",
   "execution_count": 1,
   "metadata": {},
   "outputs": [
    {
     "name": "stderr",
     "output_type": "stream",
     "text": [
      "2020-06-09 09:55:50 INFO: Loading these models for language: en (English):\n",
      "=========================\n",
      "| Processor | Package   |\n",
      "-------------------------\n",
      "| tokenize  | ewt       |\n",
      "| pos       | ewt       |\n",
      "| lemma     | ewt       |\n",
      "| depparse  | ewt       |\n",
      "| ner       | ontonotes |\n",
      "=========================\n",
      "\n",
      "2020-06-09 09:55:50 INFO: Use device: cpu\n",
      "2020-06-09 09:55:50 INFO: Loading: tokenize\n",
      "2020-06-09 09:55:50 INFO: Loading: pos\n",
      "2020-06-09 09:55:51 INFO: Loading: lemma\n",
      "2020-06-09 09:55:51 INFO: Loading: depparse\n",
      "2020-06-09 09:55:52 INFO: Loading: ner\n",
      "2020-06-09 09:55:53 INFO: Done loading processors!\n"
     ]
    }
   ],
   "source": [
    "import parse_tools as pt"
   ]
  },
  {
   "cell_type": "markdown",
   "metadata": {},
   "source": [
    "A section of text from a source, e.g. Wikipedia, can be parsed using parse_page_noun_groups(text) where text is provided as a list of paragraph strings. We can import the Wikipedia API for this test."
   ]
  },
  {
   "cell_type": "code",
   "execution_count": 2,
   "metadata": {},
   "outputs": [],
   "source": [
    "import wikipediaapi as wapi"
   ]
  },
  {
   "cell_type": "code",
   "execution_count": 3,
   "metadata": {},
   "outputs": [],
   "source": [
    "[text, _, _, _] = wapi.get_wikipedia_text('agriculture')"
   ]
  },
  {
   "cell_type": "code",
   "execution_count": 4,
   "metadata": {},
   "outputs": [
    {
     "data": {
      "text/plain": [
       "'Agriculture is the science and art of cultivating plants and livestock.[1] Agriculture was the key development in the rise of sedentary human civilization, whereby farming of domesticated species created food surpluses that enabled people to live in cities. The history of agriculture began thousands of years ago. After gathering wild grains beginning at least 105,000 years ago, nascent farmers began to plant them around 11,500 years ago. Pigs, sheep and cattle were domesticated over 10,000 years ago. Plants were independently cultivated in at least 11 regions of the world. Industrial agriculture based on large-scale monoculture in the twentieth century came to dominate agricultural output, though about 2 billion people still depended on subsistence agriculture into the twenty-first.'"
      ]
     },
     "execution_count": 4,
     "metadata": {},
     "output_type": "execute_result"
    }
   ],
   "source": [
    "text[0]"
   ]
  },
  {
   "cell_type": "markdown",
   "metadata": {},
   "source": [
    "Parsing a page for its noun groups takes a bit of time. In fact, it is the most time-intensive step in the variable exploration tools package."
   ]
  },
  {
   "cell_type": "code",
   "execution_count": 5,
   "metadata": {
    "scrolled": true
   },
   "outputs": [],
   "source": [
    "noun_groups = pt.parse_page_noun_groups(text)"
   ]
  },
  {
   "cell_type": "markdown",
   "metadata": {},
   "source": [
    "The output is in the following format:\n",
    "\n",
    "{ par_no : { sentence_no : { noun_group : {'pos_seq' : [...], 'lemma_seq': [...], *'components': {noun_group: {'pos_seq' : [...], 'lemma_seq': [...]}* }\n",
    "\n",
    "where the 'components' key is only present for noun groups that contain adpositions."
   ]
  },
  {
   "cell_type": "markdown",
   "metadata": {},
   "source": [
    "Examining the first paragraph, first sentence \n",
    "\n",
    "`Agriculture is the science and art of cultivating plants and livestock.`\n",
    "\n",
    "yields:"
   ]
  },
  {
   "cell_type": "code",
   "execution_count": 6,
   "metadata": {},
   "outputs": [
    {
     "data": {
      "text/plain": [
       "{'livestock': {'pos_seq': ['NOUN'], 'lemma_seq': ['livestock']},\n",
       " 'plants': {'pos_seq': ['NOUN'], 'lemma_seq': ['plant']},\n",
       " 'art': {'pos_seq': ['NOUN'], 'lemma_seq': ['art']},\n",
       " 'science': {'pos_seq': ['NOUN'], 'lemma_seq': ['science']},\n",
       " 'Agriculture': {'pos_seq': ['NOUN'], 'lemma_seq': ['agriculture']}}"
      ]
     },
     "execution_count": 6,
     "metadata": {},
     "output_type": "execute_result"
    }
   ],
   "source": [
    "noun_groups[1][1]"
   ]
  },
  {
   "cell_type": "markdown",
   "metadata": {},
   "source": [
    "Examining the first paragraph, second sentence \n",
    "\n",
    "`Agriculture was the key development in the rise of sedentary human civilization, whereby farming of domesticated species created food surpluses that enabled people to live in cities.`\n",
    "\n",
    "yields:"
   ]
  },
  {
   "cell_type": "code",
   "execution_count": 7,
   "metadata": {},
   "outputs": [
    {
     "data": {
      "text/plain": [
       "{'cities': {'pos_seq': ['NOUN'], 'lemma_seq': ['city']},\n",
       " 'people': {'pos_seq': ['NOUN'], 'lemma_seq': ['people']},\n",
       " 'food surpluses': {'pos_seq': ['NOUN', 'NOUN'],\n",
       "  'lemma_seq': ['food', 'surplus']},\n",
       " 'farming of domesticated species': {'pos_seq': ['NOUN',\n",
       "   'ADPOSITION',\n",
       "   'ADJECTIVE',\n",
       "   'NOUN'],\n",
       "  'lemma_seq': ['farming', 'of', 'domesticated', 'species'],\n",
       "  'components': {'farming': {'pos_seq': ['NOUN'], 'lemma_seq': ['farming']},\n",
       "   'domesticated species': {'pos_seq': ['ADJECTIVE', 'NOUN'],\n",
       "    'lemma_seq': ['domesticated', 'species']}}},\n",
       " 'rise of sedentary human civilization': {'pos_seq': ['NOUN',\n",
       "   'ADPOSITION',\n",
       "   'ADJECTIVE',\n",
       "   'ADJECTIVE',\n",
       "   'NOUN'],\n",
       "  'lemma_seq': ['rise', 'of', 'sedentary', 'human', 'civilization'],\n",
       "  'components': {'rise': {'pos_seq': ['NOUN'], 'lemma_seq': ['rise']},\n",
       "   'sedentary human civilization': {'pos_seq': ['ADJECTIVE',\n",
       "     'ADJECTIVE',\n",
       "     'NOUN'],\n",
       "    'lemma_seq': ['sedentary', 'human', 'civilization']}}},\n",
       " 'key development': {'pos_seq': ['ADJECTIVE', 'NOUN'],\n",
       "  'lemma_seq': ['key', 'development']},\n",
       " 'Agriculture': {'pos_seq': ['NOUN'], 'lemma_seq': ['agriculture']}}"
      ]
     },
     "execution_count": 7,
     "metadata": {},
     "output_type": "execute_result"
    }
   ],
   "source": [
    "noun_groups[1][2]"
   ]
  },
  {
   "cell_type": "markdown",
   "metadata": {},
   "source": [
    "To find the 'is' paragraph that corresponds to a particular subject, use the following:"
   ]
  },
  {
   "cell_type": "code",
   "execution_count": 8,
   "metadata": {},
   "outputs": [],
   "source": [
    "[pno_ret, nsubj, name_found] = pt.find_is_paragraph(text, title = 'agriculture', use_name = 'agriculture')"
   ]
  },
  {
   "cell_type": "code",
   "execution_count": 9,
   "metadata": {},
   "outputs": [
    {
     "data": {
      "text/plain": [
       "0"
      ]
     },
     "execution_count": 9,
     "metadata": {},
     "output_type": "execute_result"
    }
   ],
   "source": [
    "pno_ret"
   ]
  },
  {
   "cell_type": "code",
   "execution_count": 10,
   "metadata": {},
   "outputs": [
    {
     "data": {
      "text/plain": [
       "{'verb': 'be',\n",
       " 'nsubj': {'1': 'Agriculture'},\n",
       " 'obj': {'4': 'science', '6': 'art'}}"
      ]
     },
     "execution_count": 10,
     "metadata": {},
     "output_type": "execute_result"
    }
   ],
   "source": [
    "nsubj"
   ]
  },
  {
   "cell_type": "code",
   "execution_count": 11,
   "metadata": {},
   "outputs": [
    {
     "data": {
      "text/plain": [
       "'agriculture'"
      ]
     },
     "execution_count": 11,
     "metadata": {},
     "output_type": "execute_result"
    }
   ],
   "source": [
    "name_found"
   ]
  },
  {
   "cell_type": "markdown",
   "metadata": {},
   "source": [
    "The function returns the paragraph number for the is sentences, along with the subject found (title of the page or the name to use) and the corresponding 'obj'."
   ]
  },
  {
   "cell_type": "markdown",
   "metadata": {},
   "source": [
    "To count the noun groups on a page related to a term and assign them types, use the following:"
   ]
  },
  {
   "cell_type": "code",
   "execution_count": 12,
   "metadata": {},
   "outputs": [],
   "source": [
    "noun_group_types = pt.count_noun_groups(noun_groups, 'agriculture')"
   ]
  },
  {
   "cell_type": "code",
   "execution_count": 13,
   "metadata": {},
   "outputs": [
    {
     "data": {
      "text/html": [
       "<div>\n",
       "<style scoped>\n",
       "    .dataframe tbody tr th:only-of-type {\n",
       "        vertical-align: middle;\n",
       "    }\n",
       "\n",
       "    .dataframe tbody tr th {\n",
       "        vertical-align: top;\n",
       "    }\n",
       "\n",
       "    .dataframe thead th {\n",
       "        text-align: right;\n",
       "    }\n",
       "</style>\n",
       "<table border=\"1\" class=\"dataframe\">\n",
       "  <thead>\n",
       "    <tr style=\"text-align: right;\">\n",
       "      <th></th>\n",
       "      <th>noun_group</th>\n",
       "      <th>count</th>\n",
       "      <th>type</th>\n",
       "      <th>modified</th>\n",
       "      <th>aspects</th>\n",
       "    </tr>\n",
       "  </thead>\n",
       "  <tbody>\n",
       "    <tr>\n",
       "      <th>4</th>\n",
       "      <td>agriculture</td>\n",
       "      <td>44</td>\n",
       "      <td>simple</td>\n",
       "      <td>False</td>\n",
       "      <td>False</td>\n",
       "    </tr>\n",
       "    <tr>\n",
       "      <th>17</th>\n",
       "      <td>years</td>\n",
       "      <td>17</td>\n",
       "      <td>simple</td>\n",
       "      <td>False</td>\n",
       "      <td>False</td>\n",
       "    </tr>\n",
       "    <tr>\n",
       "      <th>96</th>\n",
       "      <td>crops</td>\n",
       "      <td>15</td>\n",
       "      <td>simple</td>\n",
       "      <td>False</td>\n",
       "      <td>False</td>\n",
       "    </tr>\n",
       "    <tr>\n",
       "      <th>36</th>\n",
       "      <td>pesticides</td>\n",
       "      <td>14</td>\n",
       "      <td>simple</td>\n",
       "      <td>False</td>\n",
       "      <td>False</td>\n",
       "    </tr>\n",
       "    <tr>\n",
       "      <th>25</th>\n",
       "      <td>world</td>\n",
       "      <td>14</td>\n",
       "      <td>simple</td>\n",
       "      <td>False</td>\n",
       "      <td>False</td>\n",
       "    </tr>\n",
       "    <tr>\n",
       "      <th>190</th>\n",
       "      <td>farmers</td>\n",
       "      <td>13</td>\n",
       "      <td>simple</td>\n",
       "      <td>False</td>\n",
       "      <td>False</td>\n",
       "    </tr>\n",
       "    <tr>\n",
       "      <th>209</th>\n",
       "      <td>use</td>\n",
       "      <td>12</td>\n",
       "      <td>simple</td>\n",
       "      <td>False</td>\n",
       "      <td>False</td>\n",
       "    </tr>\n",
       "    <tr>\n",
       "      <th>9</th>\n",
       "      <td>farming</td>\n",
       "      <td>11</td>\n",
       "      <td>simple</td>\n",
       "      <td>False</td>\n",
       "      <td>False</td>\n",
       "    </tr>\n",
       "    <tr>\n",
       "      <th>359</th>\n",
       "      <td>land</td>\n",
       "      <td>11</td>\n",
       "      <td>simple</td>\n",
       "      <td>False</td>\n",
       "      <td>False</td>\n",
       "    </tr>\n",
       "    <tr>\n",
       "      <th>80</th>\n",
       "      <td>countries</td>\n",
       "      <td>9</td>\n",
       "      <td>simple</td>\n",
       "      <td>False</td>\n",
       "      <td>False</td>\n",
       "    </tr>\n",
       "  </tbody>\n",
       "</table>\n",
       "</div>"
      ],
      "text/plain": [
       "      noun_group count    type  modified  aspects\n",
       "4    agriculture    44  simple     False    False\n",
       "17         years    17  simple     False    False\n",
       "96         crops    15  simple     False    False\n",
       "36    pesticides    14  simple     False    False\n",
       "25         world    14  simple     False    False\n",
       "190      farmers    13  simple     False    False\n",
       "209          use    12  simple     False    False\n",
       "9        farming    11  simple     False    False\n",
       "359         land    11  simple     False    False\n",
       "80     countries     9  simple     False    False"
      ]
     },
     "execution_count": 13,
     "metadata": {},
     "output_type": "execute_result"
    }
   ],
   "source": [
    "noun_group_types.head(10)"
   ]
  },
  {
   "cell_type": "code",
   "execution_count": 14,
   "metadata": {},
   "outputs": [
    {
     "data": {
      "text/html": [
       "<div>\n",
       "<style scoped>\n",
       "    .dataframe tbody tr th:only-of-type {\n",
       "        vertical-align: middle;\n",
       "    }\n",
       "\n",
       "    .dataframe tbody tr th {\n",
       "        vertical-align: top;\n",
       "    }\n",
       "\n",
       "    .dataframe thead th {\n",
       "        text-align: right;\n",
       "    }\n",
       "</style>\n",
       "<table border=\"1\" class=\"dataframe\">\n",
       "  <thead>\n",
       "    <tr style=\"text-align: right;\">\n",
       "      <th></th>\n",
       "      <th>noun_group</th>\n",
       "      <th>count</th>\n",
       "      <th>type</th>\n",
       "      <th>modified</th>\n",
       "      <th>aspects</th>\n",
       "    </tr>\n",
       "  </thead>\n",
       "  <tbody>\n",
       "    <tr>\n",
       "      <th>192</th>\n",
       "      <td>ancient egyptian agriculture</td>\n",
       "      <td>1</td>\n",
       "      <td>adjectival</td>\n",
       "      <td>True</td>\n",
       "      <td>False</td>\n",
       "    </tr>\n",
       "    <tr>\n",
       "      <th>1265</th>\n",
       "      <td>conservation agriculture</td>\n",
       "      <td>1</td>\n",
       "      <td>simple</td>\n",
       "      <td>True</td>\n",
       "      <td>False</td>\n",
       "    </tr>\n",
       "    <tr>\n",
       "      <th>388</th>\n",
       "      <td>conventional agriculture</td>\n",
       "      <td>1</td>\n",
       "      <td>adjectival</td>\n",
       "      <td>True</td>\n",
       "      <td>False</td>\n",
       "    </tr>\n",
       "    <tr>\n",
       "      <th>261</th>\n",
       "      <td>density agriculture</td>\n",
       "      <td>1</td>\n",
       "      <td>simple</td>\n",
       "      <td>True</td>\n",
       "      <td>False</td>\n",
       "    </tr>\n",
       "    <tr>\n",
       "      <th>1467</th>\n",
       "      <td>domestic agriculture</td>\n",
       "      <td>1</td>\n",
       "      <td>adjectival</td>\n",
       "      <td>True</td>\n",
       "      <td>False</td>\n",
       "    </tr>\n",
       "    <tr>\n",
       "      <th>400</th>\n",
       "      <td>environment agriculture</td>\n",
       "      <td>1</td>\n",
       "      <td>simple</td>\n",
       "      <td>True</td>\n",
       "      <td>False</td>\n",
       "    </tr>\n",
       "    <tr>\n",
       "      <th>31</th>\n",
       "      <td>industrial agriculture</td>\n",
       "      <td>1</td>\n",
       "      <td>adjectival</td>\n",
       "      <td>True</td>\n",
       "      <td>False</td>\n",
       "    </tr>\n",
       "    <tr>\n",
       "      <th>380</th>\n",
       "      <td>intensive agriculture</td>\n",
       "      <td>1</td>\n",
       "      <td>adjectival</td>\n",
       "      <td>True</td>\n",
       "      <td>False</td>\n",
       "    </tr>\n",
       "    <tr>\n",
       "      <th>432</th>\n",
       "      <td>measure agriculture</td>\n",
       "      <td>1</td>\n",
       "      <td>simple</td>\n",
       "      <td>True</td>\n",
       "      <td>False</td>\n",
       "    </tr>\n",
       "    <tr>\n",
       "      <th>339</th>\n",
       "      <td>modern agriculture</td>\n",
       "      <td>1</td>\n",
       "      <td>adjectival</td>\n",
       "      <td>True</td>\n",
       "      <td>False</td>\n",
       "    </tr>\n",
       "    <tr>\n",
       "      <th>425</th>\n",
       "      <td>smallholder agriculture</td>\n",
       "      <td>1</td>\n",
       "      <td>simple</td>\n",
       "      <td>True</td>\n",
       "      <td>False</td>\n",
       "    </tr>\n",
       "    <tr>\n",
       "      <th>27</th>\n",
       "      <td>subsistence agriculture</td>\n",
       "      <td>1</td>\n",
       "      <td>simple</td>\n",
       "      <td>True</td>\n",
       "      <td>False</td>\n",
       "    </tr>\n",
       "    <tr>\n",
       "      <th>95</th>\n",
       "      <td>word agriculture</td>\n",
       "      <td>1</td>\n",
       "      <td>simple</td>\n",
       "      <td>True</td>\n",
       "      <td>False</td>\n",
       "    </tr>\n",
       "  </tbody>\n",
       "</table>\n",
       "</div>"
      ],
      "text/plain": [
       "                        noun_group count        type  modified  aspects\n",
       "192   ancient egyptian agriculture     1  adjectival      True    False\n",
       "1265      conservation agriculture     1      simple      True    False\n",
       "388       conventional agriculture     1  adjectival      True    False\n",
       "261            density agriculture     1      simple      True    False\n",
       "1467          domestic agriculture     1  adjectival      True    False\n",
       "400        environment agriculture     1      simple      True    False\n",
       "31          industrial agriculture     1  adjectival      True    False\n",
       "380          intensive agriculture     1  adjectival      True    False\n",
       "432            measure agriculture     1      simple      True    False\n",
       "339             modern agriculture     1  adjectival      True    False\n",
       "425        smallholder agriculture     1      simple      True    False\n",
       "27         subsistence agriculture     1      simple      True    False\n",
       "95                word agriculture     1      simple      True    False"
      ]
     },
     "execution_count": 14,
     "metadata": {},
     "output_type": "execute_result"
    }
   ],
   "source": [
    "noun_group_types[noun_group_types['modified']]"
   ]
  },
  {
   "cell_type": "code",
   "execution_count": 15,
   "metadata": {},
   "outputs": [
    {
     "data": {
      "text/html": [
       "<div>\n",
       "<style scoped>\n",
       "    .dataframe tbody tr th:only-of-type {\n",
       "        vertical-align: middle;\n",
       "    }\n",
       "\n",
       "    .dataframe tbody tr th {\n",
       "        vertical-align: top;\n",
       "    }\n",
       "\n",
       "    .dataframe thead th {\n",
       "        text-align: right;\n",
       "    }\n",
       "</style>\n",
       "<table border=\"1\" class=\"dataframe\">\n",
       "  <thead>\n",
       "    <tr style=\"text-align: right;\">\n",
       "      <th></th>\n",
       "      <th>noun_group</th>\n",
       "      <th>count</th>\n",
       "      <th>type</th>\n",
       "      <th>modified</th>\n",
       "      <th>aspects</th>\n",
       "    </tr>\n",
       "  </thead>\n",
       "  <tbody>\n",
       "    <tr>\n",
       "      <th>1199</th>\n",
       "      <td>agriculture through changes in average tempera...</td>\n",
       "      <td>1</td>\n",
       "      <td>multiple</td>\n",
       "      <td>False</td>\n",
       "      <td>True</td>\n",
       "    </tr>\n",
       "    <tr>\n",
       "      <th>976</th>\n",
       "      <td>assessment of agriculture</td>\n",
       "      <td>1</td>\n",
       "      <td>multiple</td>\n",
       "      <td>False</td>\n",
       "      <td>True</td>\n",
       "    </tr>\n",
       "    <tr>\n",
       "      <th>982</th>\n",
       "      <td>cost of agriculture to society</td>\n",
       "      <td>1</td>\n",
       "      <td>multiple</td>\n",
       "      <td>False</td>\n",
       "      <td>True</td>\n",
       "    </tr>\n",
       "    <tr>\n",
       "      <th>260</th>\n",
       "      <td>density agriculture in loose rotation</td>\n",
       "      <td>1</td>\n",
       "      <td>multiple</td>\n",
       "      <td>False</td>\n",
       "      <td>True</td>\n",
       "    </tr>\n",
       "    <tr>\n",
       "      <th>121</th>\n",
       "      <td>development of agriculture</td>\n",
       "      <td>1</td>\n",
       "      <td>multiple</td>\n",
       "      <td>False</td>\n",
       "      <td>True</td>\n",
       "    </tr>\n",
       "    <tr>\n",
       "      <th>386</th>\n",
       "      <td>environmental effects of conventional agriculture</td>\n",
       "      <td>1</td>\n",
       "      <td>multiple</td>\n",
       "      <td>False</td>\n",
       "      <td>True</td>\n",
       "    </tr>\n",
       "    <tr>\n",
       "      <th>595</th>\n",
       "      <td>extent of agriculture</td>\n",
       "      <td>1</td>\n",
       "      <td>multiple</td>\n",
       "      <td>False</td>\n",
       "      <td>True</td>\n",
       "    </tr>\n",
       "    <tr>\n",
       "      <th>307</th>\n",
       "      <td>field of agriculture</td>\n",
       "      <td>1</td>\n",
       "      <td>multiple</td>\n",
       "      <td>False</td>\n",
       "      <td>True</td>\n",
       "    </tr>\n",
       "    <tr>\n",
       "      <th>159</th>\n",
       "      <td>historical origins of agriculture</td>\n",
       "      <td>1</td>\n",
       "      <td>multiple</td>\n",
       "      <td>False</td>\n",
       "      <td>True</td>\n",
       "    </tr>\n",
       "    <tr>\n",
       "      <th>18</th>\n",
       "      <td>history of agriculture</td>\n",
       "      <td>1</td>\n",
       "      <td>multiple</td>\n",
       "      <td>False</td>\n",
       "      <td>True</td>\n",
       "    </tr>\n",
       "    <tr>\n",
       "      <th>423</th>\n",
       "      <td>increase in smallholder agriculture</td>\n",
       "      <td>1</td>\n",
       "      <td>multiple</td>\n",
       "      <td>False</td>\n",
       "      <td>True</td>\n",
       "    </tr>\n",
       "    <tr>\n",
       "      <th>1354</th>\n",
       "      <td>major trends in agriculture</td>\n",
       "      <td>1</td>\n",
       "      <td>multiple</td>\n",
       "      <td>False</td>\n",
       "      <td>True</td>\n",
       "    </tr>\n",
       "    <tr>\n",
       "      <th>1217</th>\n",
       "      <td>risk of negative climate change impacts on agr...</td>\n",
       "      <td>1</td>\n",
       "      <td>multiple</td>\n",
       "      <td>False</td>\n",
       "      <td>True</td>\n",
       "    </tr>\n",
       "    <tr>\n",
       "      <th>530</th>\n",
       "      <td>safety directives in agriculture</td>\n",
       "      <td>1</td>\n",
       "      <td>multiple</td>\n",
       "      <td>False</td>\n",
       "      <td>True</td>\n",
       "    </tr>\n",
       "    <tr>\n",
       "      <th>1449</th>\n",
       "      <td>scientific study of agriculture</td>\n",
       "      <td>1</td>\n",
       "      <td>multiple</td>\n",
       "      <td>False</td>\n",
       "      <td>True</td>\n",
       "    </tr>\n",
       "    <tr>\n",
       "      <th>384</th>\n",
       "      <td>sustainable agriculture movements</td>\n",
       "      <td>1</td>\n",
       "      <td>adjectival</td>\n",
       "      <td>False</td>\n",
       "      <td>True</td>\n",
       "    </tr>\n",
       "    <tr>\n",
       "      <th>433</th>\n",
       "      <td>total factor productivity of agriculture</td>\n",
       "      <td>1</td>\n",
       "      <td>multiple</td>\n",
       "      <td>False</td>\n",
       "      <td>True</td>\n",
       "    </tr>\n",
       "    <tr>\n",
       "      <th>1424</th>\n",
       "      <td>understanding of agriculture</td>\n",
       "      <td>1</td>\n",
       "      <td>multiple</td>\n",
       "      <td>False</td>\n",
       "      <td>True</td>\n",
       "    </tr>\n",
       "    <tr>\n",
       "      <th>499</th>\n",
       "      <td>vulnerable population in agriculture</td>\n",
       "      <td>1</td>\n",
       "      <td>multiple</td>\n",
       "      <td>False</td>\n",
       "      <td>True</td>\n",
       "    </tr>\n",
       "  </tbody>\n",
       "</table>\n",
       "</div>"
      ],
      "text/plain": [
       "                                             noun_group count        type  \\\n",
       "1199  agriculture through changes in average tempera...     1    multiple   \n",
       "976                           assessment of agriculture     1    multiple   \n",
       "982                      cost of agriculture to society     1    multiple   \n",
       "260               density agriculture in loose rotation     1    multiple   \n",
       "121                          development of agriculture     1    multiple   \n",
       "386   environmental effects of conventional agriculture     1    multiple   \n",
       "595                               extent of agriculture     1    multiple   \n",
       "307                                field of agriculture     1    multiple   \n",
       "159                   historical origins of agriculture     1    multiple   \n",
       "18                               history of agriculture     1    multiple   \n",
       "423                 increase in smallholder agriculture     1    multiple   \n",
       "1354                        major trends in agriculture     1    multiple   \n",
       "1217  risk of negative climate change impacts on agr...     1    multiple   \n",
       "530                    safety directives in agriculture     1    multiple   \n",
       "1449                    scientific study of agriculture     1    multiple   \n",
       "384                   sustainable agriculture movements     1  adjectival   \n",
       "433            total factor productivity of agriculture     1    multiple   \n",
       "1424                       understanding of agriculture     1    multiple   \n",
       "499                vulnerable population in agriculture     1    multiple   \n",
       "\n",
       "      modified  aspects  \n",
       "1199     False     True  \n",
       "976      False     True  \n",
       "982      False     True  \n",
       "260      False     True  \n",
       "121      False     True  \n",
       "386      False     True  \n",
       "595      False     True  \n",
       "307      False     True  \n",
       "159      False     True  \n",
       "18       False     True  \n",
       "423      False     True  \n",
       "1354     False     True  \n",
       "1217     False     True  \n",
       "530      False     True  \n",
       "1449     False     True  \n",
       "384      False     True  \n",
       "433      False     True  \n",
       "1424     False     True  \n",
       "499      False     True  "
      ]
     },
     "execution_count": 15,
     "metadata": {},
     "output_type": "execute_result"
    }
   ],
   "source": [
    "noun_group_types[noun_group_types['aspects']]"
   ]
  },
  {
   "cell_type": "markdown",
   "metadata": {},
   "source": [
    "The modified and aspects columns flag noun groups containing the desired filter term (in this case agriculture). Modified terms are those that modify agriculture with a noun or adjective"
   ]
  }
 ],
 "metadata": {
  "kernelspec": {
   "display_name": "Python 3",
   "language": "python",
   "name": "python3"
  },
  "language_info": {
   "codemirror_mode": {
    "name": "ipython",
    "version": 3
   },
   "file_extension": ".py",
   "mimetype": "text/x-python",
   "name": "python",
   "nbconvert_exporter": "python",
   "pygments_lexer": "ipython3",
   "version": "3.6.9"
  }
 },
 "nbformat": 4,
 "nbformat_minor": 4
}
