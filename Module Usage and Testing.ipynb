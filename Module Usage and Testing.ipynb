{
 "cells": [
  {
   "cell_type": "markdown",
   "metadata": {},
   "source": [
    "This notebook reviews all of the variable search & exploration components modules."
   ]
  },
  {
   "cell_type": "markdown",
   "metadata": {},
   "source": [
    "## Table of contents:\n",
    "1. [wiktiwordnetapi.py](#sec-wwn)\n",
    "2. [wikipediaapi.py](#sec-wapi)\n",
    "3. [svoapi.py](#sec-svoapi)"
   ]
  },
  {
   "cell_type": "markdown",
   "metadata": {},
   "source": [
    "## 1. wiktiwordnetapi.py <a class=\"anchor\" id=\"sec-wwn\"></a>\n",
    "\n",
    "This module loads the generated WiktiWordNet data and has two interaction functions:\n",
    " - check_domain(term) - checks if the selected term refers to a domain\n",
    " - get_category(term) - returns a dictionary of {category:definition} pairs for the selected term"
   ]
  },
  {
   "cell_type": "markdown",
   "metadata": {},
   "source": [
    "The wiktiwornetapi can be imported with the following command:"
   ]
  },
  {
   "cell_type": "code",
   "execution_count": 1,
   "metadata": {},
   "outputs": [],
   "source": [
    "import wiktiwordnetapi as wwnapi"
   ]
  },
  {
   "cell_type": "markdown",
   "metadata": {},
   "source": [
    "Next, instantiate a WiktiWordNet object with the following command:"
   ]
  },
  {
   "cell_type": "code",
   "execution_count": 2,
   "metadata": {},
   "outputs": [],
   "source": [
    "wwn = wwnapi.wiktiwordnet()"
   ]
  },
  {
   "cell_type": "markdown",
   "metadata": {},
   "source": [
    "Test the functionality of the two methods available:"
   ]
  },
  {
   "cell_type": "code",
   "execution_count": 3,
   "metadata": {},
   "outputs": [
    {
     "name": "stdout",
     "output_type": "stream",
     "text": [
      "According to WiktiWordNet, dogs is NOT a domain.\n",
      "According to WiktiWordNet, astronomy is a domain.\n",
      "According to WiktiWordNet, geology is a domain.\n",
      "According to WiktiWordNet, astrology is NOT a domain.\n"
     ]
    }
   ],
   "source": [
    "def print_domain_status(term):\n",
    "    [is_domain, definition] = wwn.check_domain(term)\n",
    "    \n",
    "    print('According to WiktiWordNet, {} is {}a domain.'\\\n",
    "          .format(term, '' if is_domain else 'NOT '))\n",
    "    \n",
    "for term in ['dogs', 'astronomy', 'geology', 'astrology']:\n",
    "    print_domain_status(term)\n"
   ]
  },
  {
   "cell_type": "code",
   "execution_count": 4,
   "metadata": {},
   "outputs": [
    {
     "name": "stdout",
     "output_type": "stream",
     "text": [
      "Found the following categories for dog:\n",
      "Body, Role\n",
      "Found the following category for astronomy:\n",
      "Domain\n",
      "WiktiWordnet does not have any categories for the term butter.\n"
     ]
    }
   ],
   "source": [
    "def print_term_categories(term):\n",
    "    categories = wwn.get_category(term)\n",
    "    \n",
    "    num_categories = len(list(categories.keys()))\n",
    "    if num_categories == 0:\n",
    "        print('WiktiWordnet does not have any categories for the term {}.'\\\n",
    "              .format(term))\n",
    "    else:\n",
    "        print('Found the following {} for {}:'\\\n",
    "              .format('categories' if num_categories > 1 else 'category', term))\n",
    "        print(', '.join(list(categories.keys())))\n",
    "    \n",
    "for term in ['dog', 'astronomy', 'butter']:\n",
    "    print_term_categories(term)"
   ]
  },
  {
   "cell_type": "markdown",
   "metadata": {},
   "source": [
    "## 2. wikipediaapi.py <a class=\"anchor\" id=\"sec-wapi\"></a>"
   ]
  },
  {
   "cell_type": "markdown",
   "metadata": {},
   "source": [
    "The functions contained in this module can be used to interact with Wikipedia. They can\n",
    "- perform a search and return the top/most relevant result according to the Wikipedia algorithm\n",
    "- get the \"bulk\" text from a Wikipedia page (discarding panel information)\n",
    "\n",
    "The main function to be used from this module is:\n",
    "- get_wikipedia_text(term) : returns the text and metadata information from most closely related Wikipedia page\n",
    "\n",
    "And there are two helper functions present:\n",
    "- get_top_wikipedia_entry(term) : returns metadata information about most closely related Wikipedia page\n",
    "- parse_wikipedia_page(pageid) : returns the text and disambugation information about the Wikipedia page"
   ]
  },
  {
   "cell_type": "markdown",
   "metadata": {},
   "source": [
    "Load the module as follows:"
   ]
  },
  {
   "cell_type": "code",
   "execution_count": 1,
   "metadata": {},
   "outputs": [],
   "source": [
    "import wikipediaapi as wapi"
   ]
  },
  {
   "cell_type": "markdown",
   "metadata": {},
   "source": [
    "First, test the helper functions."
   ]
  },
  {
   "cell_type": "code",
   "execution_count": 2,
   "metadata": {},
   "outputs": [
    {
     "name": "stdout",
     "output_type": "stream",
     "text": [
      "Found the following Wikipedia page for dog:\n",
      "Title: Dog\n",
      "Page ID: 4269567\n",
      "Found the following Wikipedia page for crop production:\n",
      "Title: Agriculture\n",
      "Page ID: 627\n",
      "Redirect Title: Crop production\n",
      "Found the following Wikipedia page for conductivity:\n",
      "Title: Conductivity\n",
      "Page ID: 403990\n",
      "Did not find a relevant Wikipedia page for hafdkj.\n"
     ]
    }
   ],
   "source": [
    "def get_wikipedia_page_info(term):\n",
    "    results = wapi.get_top_wikipedia_entry(term)\n",
    "    \n",
    "    if results == {}:\n",
    "        print('Did not find a relevant Wikipedia page for {}.'.format(term))\n",
    "    else:\n",
    "        print('Found the following Wikipedia page for {}:'.format(term))\n",
    "        if 'title' in results.keys():\n",
    "            print('Title: {}'.format(results['title']))\n",
    "        if 'pageid' in results.keys():\n",
    "            print('Page ID: {}'.format(results['pageid']))\n",
    "        if 'redirecttitle' in results.keys():\n",
    "            print('Redirect Title: {}'.format(results['redirecttitle']))\n",
    "        if 'sectiontitle' in results.keys():\n",
    "            print('Section Title: {}'.format(results['sectiontitle']))\n",
    "\n",
    "for term in ['dog', 'crop production', 'conductivity', 'hafdkj']:\n",
    "    get_wikipedia_page_info(term)"
   ]
  },
  {
   "cell_type": "code",
   "execution_count": 3,
   "metadata": {},
   "outputs": [
    {
     "name": "stdout",
     "output_type": "stream",
     "text": [
      "Here are the first few lines of page id 4269567:\n",
      "\n",
      "Page with id 403990 is a disambiguation page.\n",
      "Here are the first few lines of page id 403990:\n",
      "Electrical conductivity\n",
      "Here are the first few lines of page id 0:\n",
      "\n"
     ]
    }
   ],
   "source": [
    "def get_wikipedia_text_info(pageid):\n",
    "    [text, disambig] = wapi.parse_wikipedia_page(pageid)\n",
    "    \n",
    "    if disambig:\n",
    "        print('Page with id {} is a disambiguation page.'.format(pageid))\n",
    "    if text != []:\n",
    "        print('Here are the first few lines of page id {}:'.format(pageid) )\n",
    "        print(text[0])\n",
    "        \n",
    "for term in [4269567, 403990, 0]:\n",
    "    get_wikipedia_text_info(term)"
   ]
  },
  {
   "cell_type": "markdown",
   "metadata": {},
   "source": [
    "Now, test the main function:"
   ]
  },
  {
   "cell_type": "code",
   "execution_count": 4,
   "metadata": {},
   "outputs": [
    {
     "name": "stdout",
     "output_type": "stream",
     "text": [
      "Page Title for term dog: dog\n",
      "Here is the first paragraph of the page for term dog:\n",
      "Canis familiaris Linnaeus, 1758[2][3]\n",
      "==================================\n",
      "Page Title for term crop production: agriculture\n",
      "Redirect title for term crop production page is: crop production.\n",
      "Here is the first paragraph of the page for term crop production:\n",
      "Agriculture is the science and art of cultivating plants and livestock.[1] Agriculture was the key development in the rise of sedentary human civilization, whereby farming of domesticated species created food surpluses that enabled people to live in cities. The history of agriculture began thousands of years ago. After gathering wild grains beginning at least 105,000 years ago, nascent farmers began to plant them around 11,500 years ago. Pigs, sheep and cattle were domesticated over 10,000 years ago. Plants were independently cultivated in at least 11 regions of the world. Industrial agriculture based on large-scale monoculture in the twentieth century came to dominate agricultural output, though about 2 billion people still depended on subsistence agriculture into the twenty-first.\n",
      "==================================\n",
      "Page Title for term conductivity: conductivity\n",
      "Page for term conductivity is a disambiguation page.\n",
      "Here is the first paragraph of the page for term conductivity:\n",
      "Electrical conductivity\n",
      "==================================\n",
      "No page found for term hafdkj.\n",
      "==================================\n"
     ]
    }
   ],
   "source": [
    "def get_wikipedia_text(term):\n",
    "    [text, disambig, title, redirecttitle] = wapi.get_wikipedia_text(term)\n",
    "    \n",
    "    if title == '':\n",
    "        print('No page found for term {}.'.format(term))\n",
    "    else:\n",
    "        print('Page Title for term {}: {}'.format(term, title))\n",
    "    if redirecttitle != '':\n",
    "        print('Redirect title for term {} page is: {}.'.format(term, redirecttitle))\n",
    "    if disambig:\n",
    "        print('Page for term {} is a disambiguation page.'.format(term))\n",
    "    if text != []:\n",
    "        print('Here is the first paragraph of the page for term {}:'.format(term) )\n",
    "        print(text[0])\n",
    "\n",
    "for term in ['dog', 'crop production', 'conductivity', 'hafdkj']:\n",
    "    get_wikipedia_text(term)\n",
    "    print('==================================')\n",
    "    "
   ]
  },
  {
   "cell_type": "markdown",
   "metadata": {},
   "source": [
    "## 3. svoapi.py <a class=\"anchor\" id=\"sec-svoapi\"></a>"
   ]
  },
  {
   "cell_type": "markdown",
   "metadata": {},
   "source": [
    "This module interacts with the SVO SPARQL endpoint to do term search\n",
    " \n",
    "The main function to be used from this module is:\n",
    "- search_rank(term) : returns a pandas dataframe of directly labeled entities and linked entities related to the search term(s) as well as a rank (from 0 to 1) of the match\n",
    "\n",
    "There are three helper functions present in the module:\n",
    "- search(term) : returns a pandas dataframe of directly labeled entities and linked entities related to the search term(s)\n",
    "- search_entity_links(entities) : return a Pandas dataframe containing the columns: term, entity, entitylabel, entityclass, linkedentity, linkedentitylabel, linkedentityclass\n",
    "    - linkedentity (and label, class) will be one of the entities passed in\n",
    "    - entity (and label, class) will be the entities linked to that entity\n",
    "- search_label(term) : return a Pandas dataframe containing the columns: term, entity, entitylabel, entityclass"
   ]
  },
  {
   "cell_type": "markdown",
   "metadata": {},
   "source": [
    "Load the module as follows:"
   ]
  },
  {
   "cell_type": "code",
   "execution_count": 1,
   "metadata": {},
   "outputs": [],
   "source": [
    "import svoapi"
   ]
  },
  {
   "cell_type": "markdown",
   "metadata": {},
   "source": [
    "Test the rank search functionality:"
   ]
  },
  {
   "cell_type": "code",
   "execution_count": 2,
   "metadata": {},
   "outputs": [
    {
     "name": "stdout",
     "output_type": "stream",
     "text": [
      "Performing search for viscosity\n",
      "Here are the top ten search results overall:\n",
      "\tproperty#viscosity\t1.0\n",
      "\tproperty#viscosity_term\t0.475\n",
      "\tproperty#dynamic_viscosity\t0.46\n",
      "\tproperty#apparent_viscosity\t0.455\n",
      "\tproperty#kinematic_viscosity\t0.45\n",
      "\tproperty#power-law-fluid_viscosity\t0.42\n",
      "\tproperty#log10_of_dynamic_viscosity\t0.2633333333333333\n",
      "\tproperty#shear_dynamic_viscosity\t0.2633333333333333\n",
      "\tproperty#volume_dynamic_viscosity\t0.2583333333333333\n",
      "\tproperty#shear_kinematic_viscosity\t0.2533333333333333\n",
      "\n",
      "Here are the top ten search results for variables:\n",
      "\tvariable#sea%40context%7Ein_%28water_eddy%29__viscosity\t0.14500000000000002\n",
      "\tvariable#air__shear_dynamic_viscosity\t0.10500000000000001\n",
      "\tvariable#air__volume_dynamic_viscosity\t0.1\n",
      "\tvariable#air__shear_kinematic_viscosity\t0.09500000000000001\n",
      "\tvariable#polymer__extensional_kinematic_viscosity\t0.09500000000000001\n",
      "\tvariable#water__shear_dynamic_viscosity\t0.09500000000000001\n",
      "\tvariable#air__volume_kinematic_viscosity\t0.09000000000000001\n",
      "\tvariable#water__volume_dynamic_viscosity\t0.09000000000000001\n",
      "\tvariable#water__shear_kinematic_viscosity\t0.085\n",
      "\tvariable#water__volume_kinematic_viscosity\t0.08000000000000002\n",
      "++++++++++++++++++++++++++++++++++++++++++++++++++++++++++++\n",
      "Performing search for volume viscosity\n",
      "Here are the top ten search results overall:\n",
      "\tproperty#volume_dynamic_viscosity\t0.6266666666666666\n",
      "\tproperty#volume_kinematic_viscosity\t0.6166666666666666\n",
      "\tproperty#viscosity\t0.515\n",
      "\tproperty#volume\t0.5\n",
      "\tproperty#porosity\t0.35\n",
      "\tvariable#air__volume_dynamic_viscosity\t0.335\n",
      "\tvariable#air__volume_kinematic_viscosity\t0.325\n",
      "\tvariable#water__volume_dynamic_viscosity\t0.325\n",
      "\tvariable#water__volume_kinematic_viscosity\t0.315\n",
      "\tvariable#sea%40context%7Eat_ice__volume_dynamic_viscosity\t0.2483333333333333\n",
      "\n",
      "Here are the top ten search results for variables:\n",
      "\tvariable#air__volume_dynamic_viscosity\t0.335\n",
      "\tvariable#air__volume_kinematic_viscosity\t0.325\n",
      "\tvariable#water__volume_dynamic_viscosity\t0.325\n",
      "\tvariable#water__volume_kinematic_viscosity\t0.315\n",
      "\tvariable#sea%40context%7Eat_ice__volume_dynamic_viscosity\t0.2483333333333333\n",
      "\tvariable#sea%40context%7Eat_ice__volume_kinematic_viscosity\t0.2383333333333333\n",
      "\tvariable#glacier%40context%7Ein_ice__volume_dynamic_viscosity\t0.22833333333333333\n",
      "\tvariable#channel%40context%7Ein_water__volume_dynamic_viscosity\t0.21833333333333332\n",
      "\tvariable#glacier%40context%7Ein_ice__volume_kinematic_viscosity\t0.21833333333333332\n",
      "\tvariable#channel%40context%7Ein_water__volume_kinematic_viscosity\t0.20833333333333331\n",
      "++++++++++++++++++++++++++++++++++++++++++++++++++++++++++++\n",
      "Performing search for rainfall, precipitation\n",
      "Here are the top ten search results overall:\n",
      "\tprocess#precipitation\t1.0\n",
      "\tphenomenon#rainfall\t1.0\n",
      "\tphenomenon#icefall\t0.6859999999999999\n",
      "\tphenomenon#snowfall\t0.6859999999999999\n",
      "\tphenomenon#drizzle\t0.6789999999999999\n",
      "\tproperty#precipitation_duration\t0.455\n",
      "\tphenomenon#water%40role%7Emain_precipitation\t0.42\n",
      "\tproperty#precipitation_mass_flux\t0.2833333333333333\n",
      "\tproperty#precipitation_volume_flux\t0.2733333333333333\n",
      "\tphenomenon#atmosphere%40context%7Esource_icefall\t0.2555\n",
      "\n",
      "Here are the top ten search results for variables:\n",
      "\tvariable#atmosphere%40role%7Esource_ice%40role%7Emain_precipitation__precipitation_duration\t0.04166666666666666\n",
      "\tvariable#atmosphere%40role%7Esource_hail%40role%7Emain_precipitation__precipitation_duration\t0.03666666666666665\n",
      "\tvariable#atmosphere%40role%7Esource_snow%40role%7Emain_precipitation__precipitation_duration\t0.03666666666666665\n",
      "\tvariable#atmosphere%40role%7Esource_sleet%40role%7Emain_precipitation__precipitation_duration\t0.03166666666666665\n",
      "\tvariable#atmosphere%40role%7Esource_water%40role%7Emain_precipitation__precipitation_duration\t0.03166666666666665\n",
      "\tvariable#atmosphere%40role%7Esource_graupel%40role%7Emain_precipitation__precipitation_duration\t0.021666666666666667\n",
      "\tvariable#atmosphere%40role%7Esource_ice%40role%7Emain_precipitation__precipitation_volume_flux\t0.002857142857142836\n",
      "\tvariable#atmosphere%40role%7Esource_water%40role%7Emain_precipitation__precipitation_mass_flux\t0.002857142857142836\n",
      "\tvariable#atmosphere%40role%7Esource_rainfall%40role%7Emain_precipitation__precipitation_mass_flux\t0.002857142857142836\n",
      "\tvariable#atmosphere%40role%7Esource_graupel%40role%7Emain_precipitation__precipitation_volume_flux\t0.0\n",
      "++++++++++++++++++++++++++++++++++++++++++++++++++++++++++++\n"
     ]
    }
   ],
   "source": [
    "def rank_search_test(terms):\n",
    "    print('Performing search for {}'.format(', '.join(terms)))\n",
    "    results = svoapi.rank_search(terms)\n",
    "    print(\"Here are the top ten search results overall:\")\n",
    "    for _,row in results.head(10).iterrows():\n",
    "        print('\\t{}\\t{}'.format(row['entity'].split('/')[-1],row['rank']))\n",
    "    print()\n",
    "    print(\"Here are the top ten search results for variables:\")\n",
    "    for _,row in results.loc[results['entityclass']=='Variable'].head(10).iterrows():\n",
    "        print('\\t{}\\t{}'.format(row['entity'].split('/')[-1],row['rank']))\n",
    "    \n",
    "search_terms = [['viscosity'], ['volume viscosity'], ['rainfall', 'precipitation']]\n",
    "for term in search_terms:\n",
    "    rank_search_test(term)\n",
    "    print('++++++++++++++++++++++++++++++++++++++++++++++++++++++++++++')"
   ]
  },
  {
   "cell_type": "code",
   "execution_count": null,
   "metadata": {},
   "outputs": [],
   "source": []
  }
 ],
 "metadata": {
  "kernelspec": {
   "display_name": "Python 3",
   "language": "python",
   "name": "python3"
  },
  "language_info": {
   "codemirror_mode": {
    "name": "ipython",
    "version": 3
   },
   "file_extension": ".py",
   "mimetype": "text/x-python",
   "name": "python",
   "nbconvert_exporter": "python",
   "pygments_lexer": "ipython3",
   "version": "3.6.9"
  }
 },
 "nbformat": 4,
 "nbformat_minor": 4
}
